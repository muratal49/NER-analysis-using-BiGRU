{
  "nbformat": 4,
  "nbformat_minor": 0,
  "metadata": {
    "colab": {
      "provenance": [],
      "gpuType": "T4",
      "include_colab_link": true
    },
    "kernelspec": {
      "name": "python3",
      "display_name": "Python 3"
    },
    "language_info": {
      "name": "python"
    },
    "accelerator": "GPU",
    "widgets": {
      "application/vnd.jupyter.widget-state+json": {
        "b119a1589b8942afade3b910b729c5f5": {
          "model_module": "@jupyter-widgets/controls",
          "model_name": "HBoxModel",
          "model_module_version": "1.5.0",
          "state": {
            "_dom_classes": [],
            "_model_module": "@jupyter-widgets/controls",
            "_model_module_version": "1.5.0",
            "_model_name": "HBoxModel",
            "_view_count": null,
            "_view_module": "@jupyter-widgets/controls",
            "_view_module_version": "1.5.0",
            "_view_name": "HBoxView",
            "box_style": "",
            "children": [
              "IPY_MODEL_89c12bc4e46840898ecc2e8618314030",
              "IPY_MODEL_ee807649e75d444980c08e30a9ad8db2",
              "IPY_MODEL_e6f0b6137acc436980f69c0ad3ad455a"
            ],
            "layout": "IPY_MODEL_3ebd5ae19674435aa601f905360a216b"
          }
        },
        "89c12bc4e46840898ecc2e8618314030": {
          "model_module": "@jupyter-widgets/controls",
          "model_name": "HTMLModel",
          "model_module_version": "1.5.0",
          "state": {
            "_dom_classes": [],
            "_model_module": "@jupyter-widgets/controls",
            "_model_module_version": "1.5.0",
            "_model_name": "HTMLModel",
            "_view_count": null,
            "_view_module": "@jupyter-widgets/controls",
            "_view_module_version": "1.5.0",
            "_view_name": "HTMLView",
            "description": "",
            "description_tooltip": null,
            "layout": "IPY_MODEL_4767d8373ea2483aa54565030fd36f62",
            "placeholder": "​",
            "style": "IPY_MODEL_37554ab999a444278ef6adf30ebca2af",
            "value": "README.md: 100%"
          }
        },
        "ee807649e75d444980c08e30a9ad8db2": {
          "model_module": "@jupyter-widgets/controls",
          "model_name": "FloatProgressModel",
          "model_module_version": "1.5.0",
          "state": {
            "_dom_classes": [],
            "_model_module": "@jupyter-widgets/controls",
            "_model_module_version": "1.5.0",
            "_model_name": "FloatProgressModel",
            "_view_count": null,
            "_view_module": "@jupyter-widgets/controls",
            "_view_module_version": "1.5.0",
            "_view_name": "ProgressView",
            "bar_style": "success",
            "description": "",
            "description_tooltip": null,
            "layout": "IPY_MODEL_a542b23759ff47f092c7cda78d36d341",
            "max": 12330,
            "min": 0,
            "orientation": "horizontal",
            "style": "IPY_MODEL_16b2a5c538f342c59c1ba9588c074b60",
            "value": 12330
          }
        },
        "e6f0b6137acc436980f69c0ad3ad455a": {
          "model_module": "@jupyter-widgets/controls",
          "model_name": "HTMLModel",
          "model_module_version": "1.5.0",
          "state": {
            "_dom_classes": [],
            "_model_module": "@jupyter-widgets/controls",
            "_model_module_version": "1.5.0",
            "_model_name": "HTMLModel",
            "_view_count": null,
            "_view_module": "@jupyter-widgets/controls",
            "_view_module_version": "1.5.0",
            "_view_name": "HTMLView",
            "description": "",
            "description_tooltip": null,
            "layout": "IPY_MODEL_1d29ecf487b54a2facfc9a87ee6b9ed1",
            "placeholder": "​",
            "style": "IPY_MODEL_fcddc9eeea174d7fa4d21d672a9f1df9",
            "value": " 12.3k/12.3k [00:00&lt;00:00, 194kB/s]"
          }
        },
        "3ebd5ae19674435aa601f905360a216b": {
          "model_module": "@jupyter-widgets/base",
          "model_name": "LayoutModel",
          "model_module_version": "1.2.0",
          "state": {
            "_model_module": "@jupyter-widgets/base",
            "_model_module_version": "1.2.0",
            "_model_name": "LayoutModel",
            "_view_count": null,
            "_view_module": "@jupyter-widgets/base",
            "_view_module_version": "1.2.0",
            "_view_name": "LayoutView",
            "align_content": null,
            "align_items": null,
            "align_self": null,
            "border": null,
            "bottom": null,
            "display": null,
            "flex": null,
            "flex_flow": null,
            "grid_area": null,
            "grid_auto_columns": null,
            "grid_auto_flow": null,
            "grid_auto_rows": null,
            "grid_column": null,
            "grid_gap": null,
            "grid_row": null,
            "grid_template_areas": null,
            "grid_template_columns": null,
            "grid_template_rows": null,
            "height": null,
            "justify_content": null,
            "justify_items": null,
            "left": null,
            "margin": null,
            "max_height": null,
            "max_width": null,
            "min_height": null,
            "min_width": null,
            "object_fit": null,
            "object_position": null,
            "order": null,
            "overflow": null,
            "overflow_x": null,
            "overflow_y": null,
            "padding": null,
            "right": null,
            "top": null,
            "visibility": null,
            "width": null
          }
        },
        "4767d8373ea2483aa54565030fd36f62": {
          "model_module": "@jupyter-widgets/base",
          "model_name": "LayoutModel",
          "model_module_version": "1.2.0",
          "state": {
            "_model_module": "@jupyter-widgets/base",
            "_model_module_version": "1.2.0",
            "_model_name": "LayoutModel",
            "_view_count": null,
            "_view_module": "@jupyter-widgets/base",
            "_view_module_version": "1.2.0",
            "_view_name": "LayoutView",
            "align_content": null,
            "align_items": null,
            "align_self": null,
            "border": null,
            "bottom": null,
            "display": null,
            "flex": null,
            "flex_flow": null,
            "grid_area": null,
            "grid_auto_columns": null,
            "grid_auto_flow": null,
            "grid_auto_rows": null,
            "grid_column": null,
            "grid_gap": null,
            "grid_row": null,
            "grid_template_areas": null,
            "grid_template_columns": null,
            "grid_template_rows": null,
            "height": null,
            "justify_content": null,
            "justify_items": null,
            "left": null,
            "margin": null,
            "max_height": null,
            "max_width": null,
            "min_height": null,
            "min_width": null,
            "object_fit": null,
            "object_position": null,
            "order": null,
            "overflow": null,
            "overflow_x": null,
            "overflow_y": null,
            "padding": null,
            "right": null,
            "top": null,
            "visibility": null,
            "width": null
          }
        },
        "37554ab999a444278ef6adf30ebca2af": {
          "model_module": "@jupyter-widgets/controls",
          "model_name": "DescriptionStyleModel",
          "model_module_version": "1.5.0",
          "state": {
            "_model_module": "@jupyter-widgets/controls",
            "_model_module_version": "1.5.0",
            "_model_name": "DescriptionStyleModel",
            "_view_count": null,
            "_view_module": "@jupyter-widgets/base",
            "_view_module_version": "1.2.0",
            "_view_name": "StyleView",
            "description_width": ""
          }
        },
        "a542b23759ff47f092c7cda78d36d341": {
          "model_module": "@jupyter-widgets/base",
          "model_name": "LayoutModel",
          "model_module_version": "1.2.0",
          "state": {
            "_model_module": "@jupyter-widgets/base",
            "_model_module_version": "1.2.0",
            "_model_name": "LayoutModel",
            "_view_count": null,
            "_view_module": "@jupyter-widgets/base",
            "_view_module_version": "1.2.0",
            "_view_name": "LayoutView",
            "align_content": null,
            "align_items": null,
            "align_self": null,
            "border": null,
            "bottom": null,
            "display": null,
            "flex": null,
            "flex_flow": null,
            "grid_area": null,
            "grid_auto_columns": null,
            "grid_auto_flow": null,
            "grid_auto_rows": null,
            "grid_column": null,
            "grid_gap": null,
            "grid_row": null,
            "grid_template_areas": null,
            "grid_template_columns": null,
            "grid_template_rows": null,
            "height": null,
            "justify_content": null,
            "justify_items": null,
            "left": null,
            "margin": null,
            "max_height": null,
            "max_width": null,
            "min_height": null,
            "min_width": null,
            "object_fit": null,
            "object_position": null,
            "order": null,
            "overflow": null,
            "overflow_x": null,
            "overflow_y": null,
            "padding": null,
            "right": null,
            "top": null,
            "visibility": null,
            "width": null
          }
        },
        "16b2a5c538f342c59c1ba9588c074b60": {
          "model_module": "@jupyter-widgets/controls",
          "model_name": "ProgressStyleModel",
          "model_module_version": "1.5.0",
          "state": {
            "_model_module": "@jupyter-widgets/controls",
            "_model_module_version": "1.5.0",
            "_model_name": "ProgressStyleModel",
            "_view_count": null,
            "_view_module": "@jupyter-widgets/base",
            "_view_module_version": "1.2.0",
            "_view_name": "StyleView",
            "bar_color": null,
            "description_width": ""
          }
        },
        "1d29ecf487b54a2facfc9a87ee6b9ed1": {
          "model_module": "@jupyter-widgets/base",
          "model_name": "LayoutModel",
          "model_module_version": "1.2.0",
          "state": {
            "_model_module": "@jupyter-widgets/base",
            "_model_module_version": "1.2.0",
            "_model_name": "LayoutModel",
            "_view_count": null,
            "_view_module": "@jupyter-widgets/base",
            "_view_module_version": "1.2.0",
            "_view_name": "LayoutView",
            "align_content": null,
            "align_items": null,
            "align_self": null,
            "border": null,
            "bottom": null,
            "display": null,
            "flex": null,
            "flex_flow": null,
            "grid_area": null,
            "grid_auto_columns": null,
            "grid_auto_flow": null,
            "grid_auto_rows": null,
            "grid_column": null,
            "grid_gap": null,
            "grid_row": null,
            "grid_template_areas": null,
            "grid_template_columns": null,
            "grid_template_rows": null,
            "height": null,
            "justify_content": null,
            "justify_items": null,
            "left": null,
            "margin": null,
            "max_height": null,
            "max_width": null,
            "min_height": null,
            "min_width": null,
            "object_fit": null,
            "object_position": null,
            "order": null,
            "overflow": null,
            "overflow_x": null,
            "overflow_y": null,
            "padding": null,
            "right": null,
            "top": null,
            "visibility": null,
            "width": null
          }
        },
        "fcddc9eeea174d7fa4d21d672a9f1df9": {
          "model_module": "@jupyter-widgets/controls",
          "model_name": "DescriptionStyleModel",
          "model_module_version": "1.5.0",
          "state": {
            "_model_module": "@jupyter-widgets/controls",
            "_model_module_version": "1.5.0",
            "_model_name": "DescriptionStyleModel",
            "_view_count": null,
            "_view_module": "@jupyter-widgets/base",
            "_view_module_version": "1.2.0",
            "_view_name": "StyleView",
            "description_width": ""
          }
        },
        "2d0323486d5f4da0b938cd195a3f0d17": {
          "model_module": "@jupyter-widgets/controls",
          "model_name": "HBoxModel",
          "model_module_version": "1.5.0",
          "state": {
            "_dom_classes": [],
            "_model_module": "@jupyter-widgets/controls",
            "_model_module_version": "1.5.0",
            "_model_name": "HBoxModel",
            "_view_count": null,
            "_view_module": "@jupyter-widgets/controls",
            "_view_module_version": "1.5.0",
            "_view_name": "HBoxView",
            "box_style": "",
            "children": [
              "IPY_MODEL_d7c97946f9584b0a984424685da3bf6a",
              "IPY_MODEL_04a4c9c5c77147a4b12f55ae03e06020",
              "IPY_MODEL_af1efe0e47094d419792a41fac5bef84"
            ],
            "layout": "IPY_MODEL_1fbbbd9600864610bfe38cbfcc78cbf6"
          }
        },
        "d7c97946f9584b0a984424685da3bf6a": {
          "model_module": "@jupyter-widgets/controls",
          "model_name": "HTMLModel",
          "model_module_version": "1.5.0",
          "state": {
            "_dom_classes": [],
            "_model_module": "@jupyter-widgets/controls",
            "_model_module_version": "1.5.0",
            "_model_name": "HTMLModel",
            "_view_count": null,
            "_view_module": "@jupyter-widgets/controls",
            "_view_module_version": "1.5.0",
            "_view_name": "HTMLView",
            "description": "",
            "description_tooltip": null,
            "layout": "IPY_MODEL_eeeaddb2c97845e09bedec021a6a1b89",
            "placeholder": "​",
            "style": "IPY_MODEL_47be93e5239649d9b4cec0b5faa7b191",
            "value": "conll2003.py: 100%"
          }
        },
        "04a4c9c5c77147a4b12f55ae03e06020": {
          "model_module": "@jupyter-widgets/controls",
          "model_name": "FloatProgressModel",
          "model_module_version": "1.5.0",
          "state": {
            "_dom_classes": [],
            "_model_module": "@jupyter-widgets/controls",
            "_model_module_version": "1.5.0",
            "_model_name": "FloatProgressModel",
            "_view_count": null,
            "_view_module": "@jupyter-widgets/controls",
            "_view_module_version": "1.5.0",
            "_view_name": "ProgressView",
            "bar_style": "success",
            "description": "",
            "description_tooltip": null,
            "layout": "IPY_MODEL_776c32c0c4ff4895a0f1dca45521cbd3",
            "max": 9570,
            "min": 0,
            "orientation": "horizontal",
            "style": "IPY_MODEL_2179929027134866b0fe8bcf0e97d37d",
            "value": 9570
          }
        },
        "af1efe0e47094d419792a41fac5bef84": {
          "model_module": "@jupyter-widgets/controls",
          "model_name": "HTMLModel",
          "model_module_version": "1.5.0",
          "state": {
            "_dom_classes": [],
            "_model_module": "@jupyter-widgets/controls",
            "_model_module_version": "1.5.0",
            "_model_name": "HTMLModel",
            "_view_count": null,
            "_view_module": "@jupyter-widgets/controls",
            "_view_module_version": "1.5.0",
            "_view_name": "HTMLView",
            "description": "",
            "description_tooltip": null,
            "layout": "IPY_MODEL_d09693f4e0474ed2adea2c082917ea6f",
            "placeholder": "​",
            "style": "IPY_MODEL_10b587cb634047e2a3deed3a46b2f850",
            "value": " 9.57k/9.57k [00:00&lt;00:00, 559kB/s]"
          }
        },
        "1fbbbd9600864610bfe38cbfcc78cbf6": {
          "model_module": "@jupyter-widgets/base",
          "model_name": "LayoutModel",
          "model_module_version": "1.2.0",
          "state": {
            "_model_module": "@jupyter-widgets/base",
            "_model_module_version": "1.2.0",
            "_model_name": "LayoutModel",
            "_view_count": null,
            "_view_module": "@jupyter-widgets/base",
            "_view_module_version": "1.2.0",
            "_view_name": "LayoutView",
            "align_content": null,
            "align_items": null,
            "align_self": null,
            "border": null,
            "bottom": null,
            "display": null,
            "flex": null,
            "flex_flow": null,
            "grid_area": null,
            "grid_auto_columns": null,
            "grid_auto_flow": null,
            "grid_auto_rows": null,
            "grid_column": null,
            "grid_gap": null,
            "grid_row": null,
            "grid_template_areas": null,
            "grid_template_columns": null,
            "grid_template_rows": null,
            "height": null,
            "justify_content": null,
            "justify_items": null,
            "left": null,
            "margin": null,
            "max_height": null,
            "max_width": null,
            "min_height": null,
            "min_width": null,
            "object_fit": null,
            "object_position": null,
            "order": null,
            "overflow": null,
            "overflow_x": null,
            "overflow_y": null,
            "padding": null,
            "right": null,
            "top": null,
            "visibility": null,
            "width": null
          }
        },
        "eeeaddb2c97845e09bedec021a6a1b89": {
          "model_module": "@jupyter-widgets/base",
          "model_name": "LayoutModel",
          "model_module_version": "1.2.0",
          "state": {
            "_model_module": "@jupyter-widgets/base",
            "_model_module_version": "1.2.0",
            "_model_name": "LayoutModel",
            "_view_count": null,
            "_view_module": "@jupyter-widgets/base",
            "_view_module_version": "1.2.0",
            "_view_name": "LayoutView",
            "align_content": null,
            "align_items": null,
            "align_self": null,
            "border": null,
            "bottom": null,
            "display": null,
            "flex": null,
            "flex_flow": null,
            "grid_area": null,
            "grid_auto_columns": null,
            "grid_auto_flow": null,
            "grid_auto_rows": null,
            "grid_column": null,
            "grid_gap": null,
            "grid_row": null,
            "grid_template_areas": null,
            "grid_template_columns": null,
            "grid_template_rows": null,
            "height": null,
            "justify_content": null,
            "justify_items": null,
            "left": null,
            "margin": null,
            "max_height": null,
            "max_width": null,
            "min_height": null,
            "min_width": null,
            "object_fit": null,
            "object_position": null,
            "order": null,
            "overflow": null,
            "overflow_x": null,
            "overflow_y": null,
            "padding": null,
            "right": null,
            "top": null,
            "visibility": null,
            "width": null
          }
        },
        "47be93e5239649d9b4cec0b5faa7b191": {
          "model_module": "@jupyter-widgets/controls",
          "model_name": "DescriptionStyleModel",
          "model_module_version": "1.5.0",
          "state": {
            "_model_module": "@jupyter-widgets/controls",
            "_model_module_version": "1.5.0",
            "_model_name": "DescriptionStyleModel",
            "_view_count": null,
            "_view_module": "@jupyter-widgets/base",
            "_view_module_version": "1.2.0",
            "_view_name": "StyleView",
            "description_width": ""
          }
        },
        "776c32c0c4ff4895a0f1dca45521cbd3": {
          "model_module": "@jupyter-widgets/base",
          "model_name": "LayoutModel",
          "model_module_version": "1.2.0",
          "state": {
            "_model_module": "@jupyter-widgets/base",
            "_model_module_version": "1.2.0",
            "_model_name": "LayoutModel",
            "_view_count": null,
            "_view_module": "@jupyter-widgets/base",
            "_view_module_version": "1.2.0",
            "_view_name": "LayoutView",
            "align_content": null,
            "align_items": null,
            "align_self": null,
            "border": null,
            "bottom": null,
            "display": null,
            "flex": null,
            "flex_flow": null,
            "grid_area": null,
            "grid_auto_columns": null,
            "grid_auto_flow": null,
            "grid_auto_rows": null,
            "grid_column": null,
            "grid_gap": null,
            "grid_row": null,
            "grid_template_areas": null,
            "grid_template_columns": null,
            "grid_template_rows": null,
            "height": null,
            "justify_content": null,
            "justify_items": null,
            "left": null,
            "margin": null,
            "max_height": null,
            "max_width": null,
            "min_height": null,
            "min_width": null,
            "object_fit": null,
            "object_position": null,
            "order": null,
            "overflow": null,
            "overflow_x": null,
            "overflow_y": null,
            "padding": null,
            "right": null,
            "top": null,
            "visibility": null,
            "width": null
          }
        },
        "2179929027134866b0fe8bcf0e97d37d": {
          "model_module": "@jupyter-widgets/controls",
          "model_name": "ProgressStyleModel",
          "model_module_version": "1.5.0",
          "state": {
            "_model_module": "@jupyter-widgets/controls",
            "_model_module_version": "1.5.0",
            "_model_name": "ProgressStyleModel",
            "_view_count": null,
            "_view_module": "@jupyter-widgets/base",
            "_view_module_version": "1.2.0",
            "_view_name": "StyleView",
            "bar_color": null,
            "description_width": ""
          }
        },
        "d09693f4e0474ed2adea2c082917ea6f": {
          "model_module": "@jupyter-widgets/base",
          "model_name": "LayoutModel",
          "model_module_version": "1.2.0",
          "state": {
            "_model_module": "@jupyter-widgets/base",
            "_model_module_version": "1.2.0",
            "_model_name": "LayoutModel",
            "_view_count": null,
            "_view_module": "@jupyter-widgets/base",
            "_view_module_version": "1.2.0",
            "_view_name": "LayoutView",
            "align_content": null,
            "align_items": null,
            "align_self": null,
            "border": null,
            "bottom": null,
            "display": null,
            "flex": null,
            "flex_flow": null,
            "grid_area": null,
            "grid_auto_columns": null,
            "grid_auto_flow": null,
            "grid_auto_rows": null,
            "grid_column": null,
            "grid_gap": null,
            "grid_row": null,
            "grid_template_areas": null,
            "grid_template_columns": null,
            "grid_template_rows": null,
            "height": null,
            "justify_content": null,
            "justify_items": null,
            "left": null,
            "margin": null,
            "max_height": null,
            "max_width": null,
            "min_height": null,
            "min_width": null,
            "object_fit": null,
            "object_position": null,
            "order": null,
            "overflow": null,
            "overflow_x": null,
            "overflow_y": null,
            "padding": null,
            "right": null,
            "top": null,
            "visibility": null,
            "width": null
          }
        },
        "10b587cb634047e2a3deed3a46b2f850": {
          "model_module": "@jupyter-widgets/controls",
          "model_name": "DescriptionStyleModel",
          "model_module_version": "1.5.0",
          "state": {
            "_model_module": "@jupyter-widgets/controls",
            "_model_module_version": "1.5.0",
            "_model_name": "DescriptionStyleModel",
            "_view_count": null,
            "_view_module": "@jupyter-widgets/base",
            "_view_module_version": "1.2.0",
            "_view_name": "StyleView",
            "description_width": ""
          }
        },
        "385b2d7b0bbd49b2a10b939321039862": {
          "model_module": "@jupyter-widgets/controls",
          "model_name": "HBoxModel",
          "model_module_version": "1.5.0",
          "state": {
            "_dom_classes": [],
            "_model_module": "@jupyter-widgets/controls",
            "_model_module_version": "1.5.0",
            "_model_name": "HBoxModel",
            "_view_count": null,
            "_view_module": "@jupyter-widgets/controls",
            "_view_module_version": "1.5.0",
            "_view_name": "HBoxView",
            "box_style": "",
            "children": [
              "IPY_MODEL_c137689d39864eb5894e1f3e4b224d21",
              "IPY_MODEL_7f7b022c799a4b50944490d04d53d5f4",
              "IPY_MODEL_8dfb147942ba42398e582629f08096d3"
            ],
            "layout": "IPY_MODEL_4a742b106eba4153b4d38fa0763e4cef"
          }
        },
        "c137689d39864eb5894e1f3e4b224d21": {
          "model_module": "@jupyter-widgets/controls",
          "model_name": "HTMLModel",
          "model_module_version": "1.5.0",
          "state": {
            "_dom_classes": [],
            "_model_module": "@jupyter-widgets/controls",
            "_model_module_version": "1.5.0",
            "_model_name": "HTMLModel",
            "_view_count": null,
            "_view_module": "@jupyter-widgets/controls",
            "_view_module_version": "1.5.0",
            "_view_name": "HTMLView",
            "description": "",
            "description_tooltip": null,
            "layout": "IPY_MODEL_a1bdde50dc9c43e098198cd1104616e7",
            "placeholder": "​",
            "style": "IPY_MODEL_2ecbf01bff7047efbc0fbce66ac26029",
            "value": "Downloading data: 100%"
          }
        },
        "7f7b022c799a4b50944490d04d53d5f4": {
          "model_module": "@jupyter-widgets/controls",
          "model_name": "FloatProgressModel",
          "model_module_version": "1.5.0",
          "state": {
            "_dom_classes": [],
            "_model_module": "@jupyter-widgets/controls",
            "_model_module_version": "1.5.0",
            "_model_name": "FloatProgressModel",
            "_view_count": null,
            "_view_module": "@jupyter-widgets/controls",
            "_view_module_version": "1.5.0",
            "_view_name": "ProgressView",
            "bar_style": "success",
            "description": "",
            "description_tooltip": null,
            "layout": "IPY_MODEL_b05ee508426a40c9ae25064cc097d792",
            "max": 982975,
            "min": 0,
            "orientation": "horizontal",
            "style": "IPY_MODEL_196e536d073740a8bfc02ec3d93d09e8",
            "value": 982975
          }
        },
        "8dfb147942ba42398e582629f08096d3": {
          "model_module": "@jupyter-widgets/controls",
          "model_name": "HTMLModel",
          "model_module_version": "1.5.0",
          "state": {
            "_dom_classes": [],
            "_model_module": "@jupyter-widgets/controls",
            "_model_module_version": "1.5.0",
            "_model_name": "HTMLModel",
            "_view_count": null,
            "_view_module": "@jupyter-widgets/controls",
            "_view_module_version": "1.5.0",
            "_view_name": "HTMLView",
            "description": "",
            "description_tooltip": null,
            "layout": "IPY_MODEL_68a6126505f74cc1a8ab73414c1a8228",
            "placeholder": "​",
            "style": "IPY_MODEL_ef7337b48a0c47f88267c5d61d3320c8",
            "value": " 983k/983k [00:00&lt;00:00, 5.31MB/s]"
          }
        },
        "4a742b106eba4153b4d38fa0763e4cef": {
          "model_module": "@jupyter-widgets/base",
          "model_name": "LayoutModel",
          "model_module_version": "1.2.0",
          "state": {
            "_model_module": "@jupyter-widgets/base",
            "_model_module_version": "1.2.0",
            "_model_name": "LayoutModel",
            "_view_count": null,
            "_view_module": "@jupyter-widgets/base",
            "_view_module_version": "1.2.0",
            "_view_name": "LayoutView",
            "align_content": null,
            "align_items": null,
            "align_self": null,
            "border": null,
            "bottom": null,
            "display": null,
            "flex": null,
            "flex_flow": null,
            "grid_area": null,
            "grid_auto_columns": null,
            "grid_auto_flow": null,
            "grid_auto_rows": null,
            "grid_column": null,
            "grid_gap": null,
            "grid_row": null,
            "grid_template_areas": null,
            "grid_template_columns": null,
            "grid_template_rows": null,
            "height": null,
            "justify_content": null,
            "justify_items": null,
            "left": null,
            "margin": null,
            "max_height": null,
            "max_width": null,
            "min_height": null,
            "min_width": null,
            "object_fit": null,
            "object_position": null,
            "order": null,
            "overflow": null,
            "overflow_x": null,
            "overflow_y": null,
            "padding": null,
            "right": null,
            "top": null,
            "visibility": null,
            "width": null
          }
        },
        "a1bdde50dc9c43e098198cd1104616e7": {
          "model_module": "@jupyter-widgets/base",
          "model_name": "LayoutModel",
          "model_module_version": "1.2.0",
          "state": {
            "_model_module": "@jupyter-widgets/base",
            "_model_module_version": "1.2.0",
            "_model_name": "LayoutModel",
            "_view_count": null,
            "_view_module": "@jupyter-widgets/base",
            "_view_module_version": "1.2.0",
            "_view_name": "LayoutView",
            "align_content": null,
            "align_items": null,
            "align_self": null,
            "border": null,
            "bottom": null,
            "display": null,
            "flex": null,
            "flex_flow": null,
            "grid_area": null,
            "grid_auto_columns": null,
            "grid_auto_flow": null,
            "grid_auto_rows": null,
            "grid_column": null,
            "grid_gap": null,
            "grid_row": null,
            "grid_template_areas": null,
            "grid_template_columns": null,
            "grid_template_rows": null,
            "height": null,
            "justify_content": null,
            "justify_items": null,
            "left": null,
            "margin": null,
            "max_height": null,
            "max_width": null,
            "min_height": null,
            "min_width": null,
            "object_fit": null,
            "object_position": null,
            "order": null,
            "overflow": null,
            "overflow_x": null,
            "overflow_y": null,
            "padding": null,
            "right": null,
            "top": null,
            "visibility": null,
            "width": null
          }
        },
        "2ecbf01bff7047efbc0fbce66ac26029": {
          "model_module": "@jupyter-widgets/controls",
          "model_name": "DescriptionStyleModel",
          "model_module_version": "1.5.0",
          "state": {
            "_model_module": "@jupyter-widgets/controls",
            "_model_module_version": "1.5.0",
            "_model_name": "DescriptionStyleModel",
            "_view_count": null,
            "_view_module": "@jupyter-widgets/base",
            "_view_module_version": "1.2.0",
            "_view_name": "StyleView",
            "description_width": ""
          }
        },
        "b05ee508426a40c9ae25064cc097d792": {
          "model_module": "@jupyter-widgets/base",
          "model_name": "LayoutModel",
          "model_module_version": "1.2.0",
          "state": {
            "_model_module": "@jupyter-widgets/base",
            "_model_module_version": "1.2.0",
            "_model_name": "LayoutModel",
            "_view_count": null,
            "_view_module": "@jupyter-widgets/base",
            "_view_module_version": "1.2.0",
            "_view_name": "LayoutView",
            "align_content": null,
            "align_items": null,
            "align_self": null,
            "border": null,
            "bottom": null,
            "display": null,
            "flex": null,
            "flex_flow": null,
            "grid_area": null,
            "grid_auto_columns": null,
            "grid_auto_flow": null,
            "grid_auto_rows": null,
            "grid_column": null,
            "grid_gap": null,
            "grid_row": null,
            "grid_template_areas": null,
            "grid_template_columns": null,
            "grid_template_rows": null,
            "height": null,
            "justify_content": null,
            "justify_items": null,
            "left": null,
            "margin": null,
            "max_height": null,
            "max_width": null,
            "min_height": null,
            "min_width": null,
            "object_fit": null,
            "object_position": null,
            "order": null,
            "overflow": null,
            "overflow_x": null,
            "overflow_y": null,
            "padding": null,
            "right": null,
            "top": null,
            "visibility": null,
            "width": null
          }
        },
        "196e536d073740a8bfc02ec3d93d09e8": {
          "model_module": "@jupyter-widgets/controls",
          "model_name": "ProgressStyleModel",
          "model_module_version": "1.5.0",
          "state": {
            "_model_module": "@jupyter-widgets/controls",
            "_model_module_version": "1.5.0",
            "_model_name": "ProgressStyleModel",
            "_view_count": null,
            "_view_module": "@jupyter-widgets/base",
            "_view_module_version": "1.2.0",
            "_view_name": "StyleView",
            "bar_color": null,
            "description_width": ""
          }
        },
        "68a6126505f74cc1a8ab73414c1a8228": {
          "model_module": "@jupyter-widgets/base",
          "model_name": "LayoutModel",
          "model_module_version": "1.2.0",
          "state": {
            "_model_module": "@jupyter-widgets/base",
            "_model_module_version": "1.2.0",
            "_model_name": "LayoutModel",
            "_view_count": null,
            "_view_module": "@jupyter-widgets/base",
            "_view_module_version": "1.2.0",
            "_view_name": "LayoutView",
            "align_content": null,
            "align_items": null,
            "align_self": null,
            "border": null,
            "bottom": null,
            "display": null,
            "flex": null,
            "flex_flow": null,
            "grid_area": null,
            "grid_auto_columns": null,
            "grid_auto_flow": null,
            "grid_auto_rows": null,
            "grid_column": null,
            "grid_gap": null,
            "grid_row": null,
            "grid_template_areas": null,
            "grid_template_columns": null,
            "grid_template_rows": null,
            "height": null,
            "justify_content": null,
            "justify_items": null,
            "left": null,
            "margin": null,
            "max_height": null,
            "max_width": null,
            "min_height": null,
            "min_width": null,
            "object_fit": null,
            "object_position": null,
            "order": null,
            "overflow": null,
            "overflow_x": null,
            "overflow_y": null,
            "padding": null,
            "right": null,
            "top": null,
            "visibility": null,
            "width": null
          }
        },
        "ef7337b48a0c47f88267c5d61d3320c8": {
          "model_module": "@jupyter-widgets/controls",
          "model_name": "DescriptionStyleModel",
          "model_module_version": "1.5.0",
          "state": {
            "_model_module": "@jupyter-widgets/controls",
            "_model_module_version": "1.5.0",
            "_model_name": "DescriptionStyleModel",
            "_view_count": null,
            "_view_module": "@jupyter-widgets/base",
            "_view_module_version": "1.2.0",
            "_view_name": "StyleView",
            "description_width": ""
          }
        },
        "f7c51999a9f344baa0d854a198c360af": {
          "model_module": "@jupyter-widgets/controls",
          "model_name": "HBoxModel",
          "model_module_version": "1.5.0",
          "state": {
            "_dom_classes": [],
            "_model_module": "@jupyter-widgets/controls",
            "_model_module_version": "1.5.0",
            "_model_name": "HBoxModel",
            "_view_count": null,
            "_view_module": "@jupyter-widgets/controls",
            "_view_module_version": "1.5.0",
            "_view_name": "HBoxView",
            "box_style": "",
            "children": [
              "IPY_MODEL_53a74f8d93224c0c80bb25b6b08201a1",
              "IPY_MODEL_a70ca70e469e45fbbf245795ed79caed",
              "IPY_MODEL_dfcf1b255c644d698907be78941dea19"
            ],
            "layout": "IPY_MODEL_b9f1a24dad8c47e6a5f3e759499be4fe"
          }
        },
        "53a74f8d93224c0c80bb25b6b08201a1": {
          "model_module": "@jupyter-widgets/controls",
          "model_name": "HTMLModel",
          "model_module_version": "1.5.0",
          "state": {
            "_dom_classes": [],
            "_model_module": "@jupyter-widgets/controls",
            "_model_module_version": "1.5.0",
            "_model_name": "HTMLModel",
            "_view_count": null,
            "_view_module": "@jupyter-widgets/controls",
            "_view_module_version": "1.5.0",
            "_view_name": "HTMLView",
            "description": "",
            "description_tooltip": null,
            "layout": "IPY_MODEL_e6b0a02f812f408b85a5db271a7e54fc",
            "placeholder": "​",
            "style": "IPY_MODEL_45cf3e9c163e49b5b0a8ab0235757de5",
            "value": "Generating train split: 100%"
          }
        },
        "a70ca70e469e45fbbf245795ed79caed": {
          "model_module": "@jupyter-widgets/controls",
          "model_name": "FloatProgressModel",
          "model_module_version": "1.5.0",
          "state": {
            "_dom_classes": [],
            "_model_module": "@jupyter-widgets/controls",
            "_model_module_version": "1.5.0",
            "_model_name": "FloatProgressModel",
            "_view_count": null,
            "_view_module": "@jupyter-widgets/controls",
            "_view_module_version": "1.5.0",
            "_view_name": "ProgressView",
            "bar_style": "success",
            "description": "",
            "description_tooltip": null,
            "layout": "IPY_MODEL_a87032d55c3f432daed60102541abaaf",
            "max": 14041,
            "min": 0,
            "orientation": "horizontal",
            "style": "IPY_MODEL_af5aee80a0b24684bb081b9392f59f8a",
            "value": 14041
          }
        },
        "dfcf1b255c644d698907be78941dea19": {
          "model_module": "@jupyter-widgets/controls",
          "model_name": "HTMLModel",
          "model_module_version": "1.5.0",
          "state": {
            "_dom_classes": [],
            "_model_module": "@jupyter-widgets/controls",
            "_model_module_version": "1.5.0",
            "_model_name": "HTMLModel",
            "_view_count": null,
            "_view_module": "@jupyter-widgets/controls",
            "_view_module_version": "1.5.0",
            "_view_name": "HTMLView",
            "description": "",
            "description_tooltip": null,
            "layout": "IPY_MODEL_c6e77b3d3bf64d7b8a45c067c3ce7668",
            "placeholder": "​",
            "style": "IPY_MODEL_8e5385689a92441d97e11020e3689f90",
            "value": " 14041/14041 [00:02&lt;00:00, 5270.81 examples/s]"
          }
        },
        "b9f1a24dad8c47e6a5f3e759499be4fe": {
          "model_module": "@jupyter-widgets/base",
          "model_name": "LayoutModel",
          "model_module_version": "1.2.0",
          "state": {
            "_model_module": "@jupyter-widgets/base",
            "_model_module_version": "1.2.0",
            "_model_name": "LayoutModel",
            "_view_count": null,
            "_view_module": "@jupyter-widgets/base",
            "_view_module_version": "1.2.0",
            "_view_name": "LayoutView",
            "align_content": null,
            "align_items": null,
            "align_self": null,
            "border": null,
            "bottom": null,
            "display": null,
            "flex": null,
            "flex_flow": null,
            "grid_area": null,
            "grid_auto_columns": null,
            "grid_auto_flow": null,
            "grid_auto_rows": null,
            "grid_column": null,
            "grid_gap": null,
            "grid_row": null,
            "grid_template_areas": null,
            "grid_template_columns": null,
            "grid_template_rows": null,
            "height": null,
            "justify_content": null,
            "justify_items": null,
            "left": null,
            "margin": null,
            "max_height": null,
            "max_width": null,
            "min_height": null,
            "min_width": null,
            "object_fit": null,
            "object_position": null,
            "order": null,
            "overflow": null,
            "overflow_x": null,
            "overflow_y": null,
            "padding": null,
            "right": null,
            "top": null,
            "visibility": null,
            "width": null
          }
        },
        "e6b0a02f812f408b85a5db271a7e54fc": {
          "model_module": "@jupyter-widgets/base",
          "model_name": "LayoutModel",
          "model_module_version": "1.2.0",
          "state": {
            "_model_module": "@jupyter-widgets/base",
            "_model_module_version": "1.2.0",
            "_model_name": "LayoutModel",
            "_view_count": null,
            "_view_module": "@jupyter-widgets/base",
            "_view_module_version": "1.2.0",
            "_view_name": "LayoutView",
            "align_content": null,
            "align_items": null,
            "align_self": null,
            "border": null,
            "bottom": null,
            "display": null,
            "flex": null,
            "flex_flow": null,
            "grid_area": null,
            "grid_auto_columns": null,
            "grid_auto_flow": null,
            "grid_auto_rows": null,
            "grid_column": null,
            "grid_gap": null,
            "grid_row": null,
            "grid_template_areas": null,
            "grid_template_columns": null,
            "grid_template_rows": null,
            "height": null,
            "justify_content": null,
            "justify_items": null,
            "left": null,
            "margin": null,
            "max_height": null,
            "max_width": null,
            "min_height": null,
            "min_width": null,
            "object_fit": null,
            "object_position": null,
            "order": null,
            "overflow": null,
            "overflow_x": null,
            "overflow_y": null,
            "padding": null,
            "right": null,
            "top": null,
            "visibility": null,
            "width": null
          }
        },
        "45cf3e9c163e49b5b0a8ab0235757de5": {
          "model_module": "@jupyter-widgets/controls",
          "model_name": "DescriptionStyleModel",
          "model_module_version": "1.5.0",
          "state": {
            "_model_module": "@jupyter-widgets/controls",
            "_model_module_version": "1.5.0",
            "_model_name": "DescriptionStyleModel",
            "_view_count": null,
            "_view_module": "@jupyter-widgets/base",
            "_view_module_version": "1.2.0",
            "_view_name": "StyleView",
            "description_width": ""
          }
        },
        "a87032d55c3f432daed60102541abaaf": {
          "model_module": "@jupyter-widgets/base",
          "model_name": "LayoutModel",
          "model_module_version": "1.2.0",
          "state": {
            "_model_module": "@jupyter-widgets/base",
            "_model_module_version": "1.2.0",
            "_model_name": "LayoutModel",
            "_view_count": null,
            "_view_module": "@jupyter-widgets/base",
            "_view_module_version": "1.2.0",
            "_view_name": "LayoutView",
            "align_content": null,
            "align_items": null,
            "align_self": null,
            "border": null,
            "bottom": null,
            "display": null,
            "flex": null,
            "flex_flow": null,
            "grid_area": null,
            "grid_auto_columns": null,
            "grid_auto_flow": null,
            "grid_auto_rows": null,
            "grid_column": null,
            "grid_gap": null,
            "grid_row": null,
            "grid_template_areas": null,
            "grid_template_columns": null,
            "grid_template_rows": null,
            "height": null,
            "justify_content": null,
            "justify_items": null,
            "left": null,
            "margin": null,
            "max_height": null,
            "max_width": null,
            "min_height": null,
            "min_width": null,
            "object_fit": null,
            "object_position": null,
            "order": null,
            "overflow": null,
            "overflow_x": null,
            "overflow_y": null,
            "padding": null,
            "right": null,
            "top": null,
            "visibility": null,
            "width": null
          }
        },
        "af5aee80a0b24684bb081b9392f59f8a": {
          "model_module": "@jupyter-widgets/controls",
          "model_name": "ProgressStyleModel",
          "model_module_version": "1.5.0",
          "state": {
            "_model_module": "@jupyter-widgets/controls",
            "_model_module_version": "1.5.0",
            "_model_name": "ProgressStyleModel",
            "_view_count": null,
            "_view_module": "@jupyter-widgets/base",
            "_view_module_version": "1.2.0",
            "_view_name": "StyleView",
            "bar_color": null,
            "description_width": ""
          }
        },
        "c6e77b3d3bf64d7b8a45c067c3ce7668": {
          "model_module": "@jupyter-widgets/base",
          "model_name": "LayoutModel",
          "model_module_version": "1.2.0",
          "state": {
            "_model_module": "@jupyter-widgets/base",
            "_model_module_version": "1.2.0",
            "_model_name": "LayoutModel",
            "_view_count": null,
            "_view_module": "@jupyter-widgets/base",
            "_view_module_version": "1.2.0",
            "_view_name": "LayoutView",
            "align_content": null,
            "align_items": null,
            "align_self": null,
            "border": null,
            "bottom": null,
            "display": null,
            "flex": null,
            "flex_flow": null,
            "grid_area": null,
            "grid_auto_columns": null,
            "grid_auto_flow": null,
            "grid_auto_rows": null,
            "grid_column": null,
            "grid_gap": null,
            "grid_row": null,
            "grid_template_areas": null,
            "grid_template_columns": null,
            "grid_template_rows": null,
            "height": null,
            "justify_content": null,
            "justify_items": null,
            "left": null,
            "margin": null,
            "max_height": null,
            "max_width": null,
            "min_height": null,
            "min_width": null,
            "object_fit": null,
            "object_position": null,
            "order": null,
            "overflow": null,
            "overflow_x": null,
            "overflow_y": null,
            "padding": null,
            "right": null,
            "top": null,
            "visibility": null,
            "width": null
          }
        },
        "8e5385689a92441d97e11020e3689f90": {
          "model_module": "@jupyter-widgets/controls",
          "model_name": "DescriptionStyleModel",
          "model_module_version": "1.5.0",
          "state": {
            "_model_module": "@jupyter-widgets/controls",
            "_model_module_version": "1.5.0",
            "_model_name": "DescriptionStyleModel",
            "_view_count": null,
            "_view_module": "@jupyter-widgets/base",
            "_view_module_version": "1.2.0",
            "_view_name": "StyleView",
            "description_width": ""
          }
        },
        "9f8709f78cb244abaadea39de74d8152": {
          "model_module": "@jupyter-widgets/controls",
          "model_name": "HBoxModel",
          "model_module_version": "1.5.0",
          "state": {
            "_dom_classes": [],
            "_model_module": "@jupyter-widgets/controls",
            "_model_module_version": "1.5.0",
            "_model_name": "HBoxModel",
            "_view_count": null,
            "_view_module": "@jupyter-widgets/controls",
            "_view_module_version": "1.5.0",
            "_view_name": "HBoxView",
            "box_style": "",
            "children": [
              "IPY_MODEL_48b46bc3198d4dc29170af4dacde527b",
              "IPY_MODEL_430e0536a0474134ae047f9b2bd642a5",
              "IPY_MODEL_b533bdf2062a451695dfa274f2c1a881"
            ],
            "layout": "IPY_MODEL_13938f5f25bf469987856f660e9043f6"
          }
        },
        "48b46bc3198d4dc29170af4dacde527b": {
          "model_module": "@jupyter-widgets/controls",
          "model_name": "HTMLModel",
          "model_module_version": "1.5.0",
          "state": {
            "_dom_classes": [],
            "_model_module": "@jupyter-widgets/controls",
            "_model_module_version": "1.5.0",
            "_model_name": "HTMLModel",
            "_view_count": null,
            "_view_module": "@jupyter-widgets/controls",
            "_view_module_version": "1.5.0",
            "_view_name": "HTMLView",
            "description": "",
            "description_tooltip": null,
            "layout": "IPY_MODEL_bb4a85159149406fbb6913b988cfa9fa",
            "placeholder": "​",
            "style": "IPY_MODEL_419e6517acf2405ca1a590f5d5ffbab8",
            "value": "Generating validation split: 100%"
          }
        },
        "430e0536a0474134ae047f9b2bd642a5": {
          "model_module": "@jupyter-widgets/controls",
          "model_name": "FloatProgressModel",
          "model_module_version": "1.5.0",
          "state": {
            "_dom_classes": [],
            "_model_module": "@jupyter-widgets/controls",
            "_model_module_version": "1.5.0",
            "_model_name": "FloatProgressModel",
            "_view_count": null,
            "_view_module": "@jupyter-widgets/controls",
            "_view_module_version": "1.5.0",
            "_view_name": "ProgressView",
            "bar_style": "success",
            "description": "",
            "description_tooltip": null,
            "layout": "IPY_MODEL_d363801d8e8c423da61380c2b5cf0a1f",
            "max": 3250,
            "min": 0,
            "orientation": "horizontal",
            "style": "IPY_MODEL_645031881ae24c459b860dfafe967246",
            "value": 3250
          }
        },
        "b533bdf2062a451695dfa274f2c1a881": {
          "model_module": "@jupyter-widgets/controls",
          "model_name": "HTMLModel",
          "model_module_version": "1.5.0",
          "state": {
            "_dom_classes": [],
            "_model_module": "@jupyter-widgets/controls",
            "_model_module_version": "1.5.0",
            "_model_name": "HTMLModel",
            "_view_count": null,
            "_view_module": "@jupyter-widgets/controls",
            "_view_module_version": "1.5.0",
            "_view_name": "HTMLView",
            "description": "",
            "description_tooltip": null,
            "layout": "IPY_MODEL_1f009a982e244c4d8143af8190e898b6",
            "placeholder": "​",
            "style": "IPY_MODEL_b3a8ac6cc03145cbb441b84c41c17aaf",
            "value": " 3250/3250 [00:00&lt;00:00, 5595.64 examples/s]"
          }
        },
        "13938f5f25bf469987856f660e9043f6": {
          "model_module": "@jupyter-widgets/base",
          "model_name": "LayoutModel",
          "model_module_version": "1.2.0",
          "state": {
            "_model_module": "@jupyter-widgets/base",
            "_model_module_version": "1.2.0",
            "_model_name": "LayoutModel",
            "_view_count": null,
            "_view_module": "@jupyter-widgets/base",
            "_view_module_version": "1.2.0",
            "_view_name": "LayoutView",
            "align_content": null,
            "align_items": null,
            "align_self": null,
            "border": null,
            "bottom": null,
            "display": null,
            "flex": null,
            "flex_flow": null,
            "grid_area": null,
            "grid_auto_columns": null,
            "grid_auto_flow": null,
            "grid_auto_rows": null,
            "grid_column": null,
            "grid_gap": null,
            "grid_row": null,
            "grid_template_areas": null,
            "grid_template_columns": null,
            "grid_template_rows": null,
            "height": null,
            "justify_content": null,
            "justify_items": null,
            "left": null,
            "margin": null,
            "max_height": null,
            "max_width": null,
            "min_height": null,
            "min_width": null,
            "object_fit": null,
            "object_position": null,
            "order": null,
            "overflow": null,
            "overflow_x": null,
            "overflow_y": null,
            "padding": null,
            "right": null,
            "top": null,
            "visibility": null,
            "width": null
          }
        },
        "bb4a85159149406fbb6913b988cfa9fa": {
          "model_module": "@jupyter-widgets/base",
          "model_name": "LayoutModel",
          "model_module_version": "1.2.0",
          "state": {
            "_model_module": "@jupyter-widgets/base",
            "_model_module_version": "1.2.0",
            "_model_name": "LayoutModel",
            "_view_count": null,
            "_view_module": "@jupyter-widgets/base",
            "_view_module_version": "1.2.0",
            "_view_name": "LayoutView",
            "align_content": null,
            "align_items": null,
            "align_self": null,
            "border": null,
            "bottom": null,
            "display": null,
            "flex": null,
            "flex_flow": null,
            "grid_area": null,
            "grid_auto_columns": null,
            "grid_auto_flow": null,
            "grid_auto_rows": null,
            "grid_column": null,
            "grid_gap": null,
            "grid_row": null,
            "grid_template_areas": null,
            "grid_template_columns": null,
            "grid_template_rows": null,
            "height": null,
            "justify_content": null,
            "justify_items": null,
            "left": null,
            "margin": null,
            "max_height": null,
            "max_width": null,
            "min_height": null,
            "min_width": null,
            "object_fit": null,
            "object_position": null,
            "order": null,
            "overflow": null,
            "overflow_x": null,
            "overflow_y": null,
            "padding": null,
            "right": null,
            "top": null,
            "visibility": null,
            "width": null
          }
        },
        "419e6517acf2405ca1a590f5d5ffbab8": {
          "model_module": "@jupyter-widgets/controls",
          "model_name": "DescriptionStyleModel",
          "model_module_version": "1.5.0",
          "state": {
            "_model_module": "@jupyter-widgets/controls",
            "_model_module_version": "1.5.0",
            "_model_name": "DescriptionStyleModel",
            "_view_count": null,
            "_view_module": "@jupyter-widgets/base",
            "_view_module_version": "1.2.0",
            "_view_name": "StyleView",
            "description_width": ""
          }
        },
        "d363801d8e8c423da61380c2b5cf0a1f": {
          "model_module": "@jupyter-widgets/base",
          "model_name": "LayoutModel",
          "model_module_version": "1.2.0",
          "state": {
            "_model_module": "@jupyter-widgets/base",
            "_model_module_version": "1.2.0",
            "_model_name": "LayoutModel",
            "_view_count": null,
            "_view_module": "@jupyter-widgets/base",
            "_view_module_version": "1.2.0",
            "_view_name": "LayoutView",
            "align_content": null,
            "align_items": null,
            "align_self": null,
            "border": null,
            "bottom": null,
            "display": null,
            "flex": null,
            "flex_flow": null,
            "grid_area": null,
            "grid_auto_columns": null,
            "grid_auto_flow": null,
            "grid_auto_rows": null,
            "grid_column": null,
            "grid_gap": null,
            "grid_row": null,
            "grid_template_areas": null,
            "grid_template_columns": null,
            "grid_template_rows": null,
            "height": null,
            "justify_content": null,
            "justify_items": null,
            "left": null,
            "margin": null,
            "max_height": null,
            "max_width": null,
            "min_height": null,
            "min_width": null,
            "object_fit": null,
            "object_position": null,
            "order": null,
            "overflow": null,
            "overflow_x": null,
            "overflow_y": null,
            "padding": null,
            "right": null,
            "top": null,
            "visibility": null,
            "width": null
          }
        },
        "645031881ae24c459b860dfafe967246": {
          "model_module": "@jupyter-widgets/controls",
          "model_name": "ProgressStyleModel",
          "model_module_version": "1.5.0",
          "state": {
            "_model_module": "@jupyter-widgets/controls",
            "_model_module_version": "1.5.0",
            "_model_name": "ProgressStyleModel",
            "_view_count": null,
            "_view_module": "@jupyter-widgets/base",
            "_view_module_version": "1.2.0",
            "_view_name": "StyleView",
            "bar_color": null,
            "description_width": ""
          }
        },
        "1f009a982e244c4d8143af8190e898b6": {
          "model_module": "@jupyter-widgets/base",
          "model_name": "LayoutModel",
          "model_module_version": "1.2.0",
          "state": {
            "_model_module": "@jupyter-widgets/base",
            "_model_module_version": "1.2.0",
            "_model_name": "LayoutModel",
            "_view_count": null,
            "_view_module": "@jupyter-widgets/base",
            "_view_module_version": "1.2.0",
            "_view_name": "LayoutView",
            "align_content": null,
            "align_items": null,
            "align_self": null,
            "border": null,
            "bottom": null,
            "display": null,
            "flex": null,
            "flex_flow": null,
            "grid_area": null,
            "grid_auto_columns": null,
            "grid_auto_flow": null,
            "grid_auto_rows": null,
            "grid_column": null,
            "grid_gap": null,
            "grid_row": null,
            "grid_template_areas": null,
            "grid_template_columns": null,
            "grid_template_rows": null,
            "height": null,
            "justify_content": null,
            "justify_items": null,
            "left": null,
            "margin": null,
            "max_height": null,
            "max_width": null,
            "min_height": null,
            "min_width": null,
            "object_fit": null,
            "object_position": null,
            "order": null,
            "overflow": null,
            "overflow_x": null,
            "overflow_y": null,
            "padding": null,
            "right": null,
            "top": null,
            "visibility": null,
            "width": null
          }
        },
        "b3a8ac6cc03145cbb441b84c41c17aaf": {
          "model_module": "@jupyter-widgets/controls",
          "model_name": "DescriptionStyleModel",
          "model_module_version": "1.5.0",
          "state": {
            "_model_module": "@jupyter-widgets/controls",
            "_model_module_version": "1.5.0",
            "_model_name": "DescriptionStyleModel",
            "_view_count": null,
            "_view_module": "@jupyter-widgets/base",
            "_view_module_version": "1.2.0",
            "_view_name": "StyleView",
            "description_width": ""
          }
        },
        "a59f75e7aab14a2a9ad01b1c081fa880": {
          "model_module": "@jupyter-widgets/controls",
          "model_name": "HBoxModel",
          "model_module_version": "1.5.0",
          "state": {
            "_dom_classes": [],
            "_model_module": "@jupyter-widgets/controls",
            "_model_module_version": "1.5.0",
            "_model_name": "HBoxModel",
            "_view_count": null,
            "_view_module": "@jupyter-widgets/controls",
            "_view_module_version": "1.5.0",
            "_view_name": "HBoxView",
            "box_style": "",
            "children": [
              "IPY_MODEL_4200944340a541d5800835df15d14eaf",
              "IPY_MODEL_62e6b4f1395c4148909870e14d692bcf",
              "IPY_MODEL_ab801996df7f4bb492547953d45d5fc2"
            ],
            "layout": "IPY_MODEL_a18d6c670b694fcbbece674ac5e2a98c"
          }
        },
        "4200944340a541d5800835df15d14eaf": {
          "model_module": "@jupyter-widgets/controls",
          "model_name": "HTMLModel",
          "model_module_version": "1.5.0",
          "state": {
            "_dom_classes": [],
            "_model_module": "@jupyter-widgets/controls",
            "_model_module_version": "1.5.0",
            "_model_name": "HTMLModel",
            "_view_count": null,
            "_view_module": "@jupyter-widgets/controls",
            "_view_module_version": "1.5.0",
            "_view_name": "HTMLView",
            "description": "",
            "description_tooltip": null,
            "layout": "IPY_MODEL_d05b8eebd47c44fc90c14eb4c129304f",
            "placeholder": "​",
            "style": "IPY_MODEL_94ce0ecebeb349dbacf6174fe15875e9",
            "value": "Generating test split: 100%"
          }
        },
        "62e6b4f1395c4148909870e14d692bcf": {
          "model_module": "@jupyter-widgets/controls",
          "model_name": "FloatProgressModel",
          "model_module_version": "1.5.0",
          "state": {
            "_dom_classes": [],
            "_model_module": "@jupyter-widgets/controls",
            "_model_module_version": "1.5.0",
            "_model_name": "FloatProgressModel",
            "_view_count": null,
            "_view_module": "@jupyter-widgets/controls",
            "_view_module_version": "1.5.0",
            "_view_name": "ProgressView",
            "bar_style": "success",
            "description": "",
            "description_tooltip": null,
            "layout": "IPY_MODEL_cfbd9cd7229043e78dd0d1f34f73bea4",
            "max": 3453,
            "min": 0,
            "orientation": "horizontal",
            "style": "IPY_MODEL_b4745bc23bd64a05882cb819b4aa4d90",
            "value": 3453
          }
        },
        "ab801996df7f4bb492547953d45d5fc2": {
          "model_module": "@jupyter-widgets/controls",
          "model_name": "HTMLModel",
          "model_module_version": "1.5.0",
          "state": {
            "_dom_classes": [],
            "_model_module": "@jupyter-widgets/controls",
            "_model_module_version": "1.5.0",
            "_model_name": "HTMLModel",
            "_view_count": null,
            "_view_module": "@jupyter-widgets/controls",
            "_view_module_version": "1.5.0",
            "_view_name": "HTMLView",
            "description": "",
            "description_tooltip": null,
            "layout": "IPY_MODEL_1ab363403e4c49239a0aca897f89a916",
            "placeholder": "​",
            "style": "IPY_MODEL_700190a761474c67b20205c47b7874c3",
            "value": " 3453/3453 [00:00&lt;00:00, 3828.01 examples/s]"
          }
        },
        "a18d6c670b694fcbbece674ac5e2a98c": {
          "model_module": "@jupyter-widgets/base",
          "model_name": "LayoutModel",
          "model_module_version": "1.2.0",
          "state": {
            "_model_module": "@jupyter-widgets/base",
            "_model_module_version": "1.2.0",
            "_model_name": "LayoutModel",
            "_view_count": null,
            "_view_module": "@jupyter-widgets/base",
            "_view_module_version": "1.2.0",
            "_view_name": "LayoutView",
            "align_content": null,
            "align_items": null,
            "align_self": null,
            "border": null,
            "bottom": null,
            "display": null,
            "flex": null,
            "flex_flow": null,
            "grid_area": null,
            "grid_auto_columns": null,
            "grid_auto_flow": null,
            "grid_auto_rows": null,
            "grid_column": null,
            "grid_gap": null,
            "grid_row": null,
            "grid_template_areas": null,
            "grid_template_columns": null,
            "grid_template_rows": null,
            "height": null,
            "justify_content": null,
            "justify_items": null,
            "left": null,
            "margin": null,
            "max_height": null,
            "max_width": null,
            "min_height": null,
            "min_width": null,
            "object_fit": null,
            "object_position": null,
            "order": null,
            "overflow": null,
            "overflow_x": null,
            "overflow_y": null,
            "padding": null,
            "right": null,
            "top": null,
            "visibility": null,
            "width": null
          }
        },
        "d05b8eebd47c44fc90c14eb4c129304f": {
          "model_module": "@jupyter-widgets/base",
          "model_name": "LayoutModel",
          "model_module_version": "1.2.0",
          "state": {
            "_model_module": "@jupyter-widgets/base",
            "_model_module_version": "1.2.0",
            "_model_name": "LayoutModel",
            "_view_count": null,
            "_view_module": "@jupyter-widgets/base",
            "_view_module_version": "1.2.0",
            "_view_name": "LayoutView",
            "align_content": null,
            "align_items": null,
            "align_self": null,
            "border": null,
            "bottom": null,
            "display": null,
            "flex": null,
            "flex_flow": null,
            "grid_area": null,
            "grid_auto_columns": null,
            "grid_auto_flow": null,
            "grid_auto_rows": null,
            "grid_column": null,
            "grid_gap": null,
            "grid_row": null,
            "grid_template_areas": null,
            "grid_template_columns": null,
            "grid_template_rows": null,
            "height": null,
            "justify_content": null,
            "justify_items": null,
            "left": null,
            "margin": null,
            "max_height": null,
            "max_width": null,
            "min_height": null,
            "min_width": null,
            "object_fit": null,
            "object_position": null,
            "order": null,
            "overflow": null,
            "overflow_x": null,
            "overflow_y": null,
            "padding": null,
            "right": null,
            "top": null,
            "visibility": null,
            "width": null
          }
        },
        "94ce0ecebeb349dbacf6174fe15875e9": {
          "model_module": "@jupyter-widgets/controls",
          "model_name": "DescriptionStyleModel",
          "model_module_version": "1.5.0",
          "state": {
            "_model_module": "@jupyter-widgets/controls",
            "_model_module_version": "1.5.0",
            "_model_name": "DescriptionStyleModel",
            "_view_count": null,
            "_view_module": "@jupyter-widgets/base",
            "_view_module_version": "1.2.0",
            "_view_name": "StyleView",
            "description_width": ""
          }
        },
        "cfbd9cd7229043e78dd0d1f34f73bea4": {
          "model_module": "@jupyter-widgets/base",
          "model_name": "LayoutModel",
          "model_module_version": "1.2.0",
          "state": {
            "_model_module": "@jupyter-widgets/base",
            "_model_module_version": "1.2.0",
            "_model_name": "LayoutModel",
            "_view_count": null,
            "_view_module": "@jupyter-widgets/base",
            "_view_module_version": "1.2.0",
            "_view_name": "LayoutView",
            "align_content": null,
            "align_items": null,
            "align_self": null,
            "border": null,
            "bottom": null,
            "display": null,
            "flex": null,
            "flex_flow": null,
            "grid_area": null,
            "grid_auto_columns": null,
            "grid_auto_flow": null,
            "grid_auto_rows": null,
            "grid_column": null,
            "grid_gap": null,
            "grid_row": null,
            "grid_template_areas": null,
            "grid_template_columns": null,
            "grid_template_rows": null,
            "height": null,
            "justify_content": null,
            "justify_items": null,
            "left": null,
            "margin": null,
            "max_height": null,
            "max_width": null,
            "min_height": null,
            "min_width": null,
            "object_fit": null,
            "object_position": null,
            "order": null,
            "overflow": null,
            "overflow_x": null,
            "overflow_y": null,
            "padding": null,
            "right": null,
            "top": null,
            "visibility": null,
            "width": null
          }
        },
        "b4745bc23bd64a05882cb819b4aa4d90": {
          "model_module": "@jupyter-widgets/controls",
          "model_name": "ProgressStyleModel",
          "model_module_version": "1.5.0",
          "state": {
            "_model_module": "@jupyter-widgets/controls",
            "_model_module_version": "1.5.0",
            "_model_name": "ProgressStyleModel",
            "_view_count": null,
            "_view_module": "@jupyter-widgets/base",
            "_view_module_version": "1.2.0",
            "_view_name": "StyleView",
            "bar_color": null,
            "description_width": ""
          }
        },
        "1ab363403e4c49239a0aca897f89a916": {
          "model_module": "@jupyter-widgets/base",
          "model_name": "LayoutModel",
          "model_module_version": "1.2.0",
          "state": {
            "_model_module": "@jupyter-widgets/base",
            "_model_module_version": "1.2.0",
            "_model_name": "LayoutModel",
            "_view_count": null,
            "_view_module": "@jupyter-widgets/base",
            "_view_module_version": "1.2.0",
            "_view_name": "LayoutView",
            "align_content": null,
            "align_items": null,
            "align_self": null,
            "border": null,
            "bottom": null,
            "display": null,
            "flex": null,
            "flex_flow": null,
            "grid_area": null,
            "grid_auto_columns": null,
            "grid_auto_flow": null,
            "grid_auto_rows": null,
            "grid_column": null,
            "grid_gap": null,
            "grid_row": null,
            "grid_template_areas": null,
            "grid_template_columns": null,
            "grid_template_rows": null,
            "height": null,
            "justify_content": null,
            "justify_items": null,
            "left": null,
            "margin": null,
            "max_height": null,
            "max_width": null,
            "min_height": null,
            "min_width": null,
            "object_fit": null,
            "object_position": null,
            "order": null,
            "overflow": null,
            "overflow_x": null,
            "overflow_y": null,
            "padding": null,
            "right": null,
            "top": null,
            "visibility": null,
            "width": null
          }
        },
        "700190a761474c67b20205c47b7874c3": {
          "model_module": "@jupyter-widgets/controls",
          "model_name": "DescriptionStyleModel",
          "model_module_version": "1.5.0",
          "state": {
            "_model_module": "@jupyter-widgets/controls",
            "_model_module_version": "1.5.0",
            "_model_name": "DescriptionStyleModel",
            "_view_count": null,
            "_view_module": "@jupyter-widgets/base",
            "_view_module_version": "1.2.0",
            "_view_name": "StyleView",
            "description_width": ""
          }
        }
      }
    }
  },
  "cells": [
    {
      "cell_type": "markdown",
      "metadata": {
        "id": "view-in-github",
        "colab_type": "text"
      },
      "source": [
        "<a href=\"https://colab.research.google.com/github/muratal49/NER-analysis-using-BiGRU/blob/main/NER_using_BIGRU_on_CoNLL2003.ipynb\" target=\"_parent\"><img src=\"https://colab.research.google.com/assets/colab-badge.svg\" alt=\"Open In Colab\"/></a>"
      ]
    },
    {
      "cell_type": "markdown",
      "source": [
        "## 📌 **Introduction**\n",
        "\n",
        "Named Entity Recognition (NER) is a core task in Natural Language Processing (NLP) that involves detecting and categorizing named entities such as **persons 🧑‍💼, organizations 🏢, locations 🌍, and miscellaneous entities 🔍** in text.\n",
        "\n",
        "In this assignment, you will implement a **Bidirectional Gated Recurrent Unit (BiGRU) 🔄** model to perform NER on the **CoNLL-2003 dataset**. Unlike traditional sequence models (like CRFs or HMMs), **BiGRU captures both past and future contexts**, making it a powerful tool for sequence labeling tasks.\n",
        "\n",
        "---\n",
        "\n",
        "### 🎯 **Learning Objectives**\n",
        "\n",
        "By the end of this assignment, you will:\n",
        "\n",
        "✅ Understand the **CoNLL-2003 dataset** format and its annotation scheme.  \n",
        "✅ Implement a **BiGRU-based model** for sequence labeling.  \n",
        "✅ Apply **word embeddings** (e.g., GloVe, FastText) to improve model performance.  \n",
        "✅ Use **PyTorch (or TensorFlow)** to train and evaluate your model.  \n",
        "✅ Analyze **NER performance** and explore enhancements.  \n",
        "\n",
        "\n",
        "---\n",
        "\n",
        "### 🏆 **Task Description**\n",
        "\n",
        "Your mission is to **develop a BiGRU-based NER model** by completing the following steps:\n",
        "\n",
        "🔹 **Preprocess** the dataset: Convert words into numerical representations.  \n",
        "🔹 **Build a BiGRU model** with word embeddings as input and entity labels as output.  \n",
        "🔹 **Train the model** using an appropriate loss function (e.g., CrossEntropyLoss) and optimizer (e.g., Adam).  \n",
        "🔹 **Evaluate** the model on the validation and test sets.  \n",
        "🔹 **Analyze and improve**: Report key performance metrics (accuracy, F1-score) and suggest enhancements.\n",
        "\n",
        "---\n",
        "\n",
        "\n",
        "## 🎯 **Good Luck & Have Fun! 🚀**\n",
        "🚀 Happy coding! If you have any questions, feel free to reach out. 🔥\n",
        "\n",
        "---"
      ],
      "metadata": {
        "id": "BG2KXRXFtgU1"
      }
    },
    {
      "cell_type": "markdown",
      "source": [
        "# 🎯 **NLP Assignment: BiGRU for Named Entity Recognition (NER) on CoNLL-2003** 🚀\n"
      ],
      "metadata": {
        "id": "a8OabVMsZ2oE"
      }
    },
    {
      "cell_type": "code",
      "source": [
        "import numpy as np\n",
        "import pandas as pd\n",
        "import random\n",
        "import re\n",
        "\n",
        "import torch\n",
        "import torch.nn as nn\n",
        "import torch.optim as optim\n",
        "\n",
        "from tqdm import tqdm\n",
        "from torch.utils.data import DataLoader, Dataset\n",
        "from torch.nn.utils.rnn import pad_sequence"
      ],
      "metadata": {
        "id": "CCg5qjD1K4AQ"
      },
      "execution_count": null,
      "outputs": []
    },
    {
      "cell_type": "code",
      "source": [],
      "metadata": {
        "id": "WoDucuQcZ0sR"
      },
      "execution_count": null,
      "outputs": []
    },
    {
      "cell_type": "code",
      "source": [
        "!pip install datasets\n",
        "!pip install seqeval"
      ],
      "metadata": {
        "id": "qPuXeNvZSshE",
        "colab": {
          "base_uri": "https://localhost:8080/"
        },
        "outputId": "e6420887-16e8-401e-9caf-45326f4f960a"
      },
      "execution_count": null,
      "outputs": [
        {
          "output_type": "stream",
          "name": "stdout",
          "text": [
            "Collecting datasets\n",
            "  Downloading datasets-3.3.2-py3-none-any.whl.metadata (19 kB)\n",
            "Requirement already satisfied: filelock in /usr/local/lib/python3.11/dist-packages (from datasets) (3.17.0)\n",
            "Requirement already satisfied: numpy>=1.17 in /usr/local/lib/python3.11/dist-packages (from datasets) (1.26.4)\n",
            "Requirement already satisfied: pyarrow>=15.0.0 in /usr/local/lib/python3.11/dist-packages (from datasets) (18.1.0)\n",
            "Collecting dill<0.3.9,>=0.3.0 (from datasets)\n",
            "  Downloading dill-0.3.8-py3-none-any.whl.metadata (10 kB)\n",
            "Requirement already satisfied: pandas in /usr/local/lib/python3.11/dist-packages (from datasets) (2.2.2)\n",
            "Requirement already satisfied: requests>=2.32.2 in /usr/local/lib/python3.11/dist-packages (from datasets) (2.32.3)\n",
            "Requirement already satisfied: tqdm>=4.66.3 in /usr/local/lib/python3.11/dist-packages (from datasets) (4.67.1)\n",
            "Collecting xxhash (from datasets)\n",
            "  Downloading xxhash-3.5.0-cp311-cp311-manylinux_2_17_x86_64.manylinux2014_x86_64.whl.metadata (12 kB)\n",
            "Collecting multiprocess<0.70.17 (from datasets)\n",
            "  Downloading multiprocess-0.70.16-py311-none-any.whl.metadata (7.2 kB)\n",
            "Requirement already satisfied: fsspec<=2024.12.0,>=2023.1.0 in /usr/local/lib/python3.11/dist-packages (from fsspec[http]<=2024.12.0,>=2023.1.0->datasets) (2024.10.0)\n",
            "Requirement already satisfied: aiohttp in /usr/local/lib/python3.11/dist-packages (from datasets) (3.11.13)\n",
            "Requirement already satisfied: huggingface-hub>=0.24.0 in /usr/local/lib/python3.11/dist-packages (from datasets) (0.28.1)\n",
            "Requirement already satisfied: packaging in /usr/local/lib/python3.11/dist-packages (from datasets) (24.2)\n",
            "Requirement already satisfied: pyyaml>=5.1 in /usr/local/lib/python3.11/dist-packages (from datasets) (6.0.2)\n",
            "Requirement already satisfied: aiohappyeyeballs>=2.3.0 in /usr/local/lib/python3.11/dist-packages (from aiohttp->datasets) (2.4.6)\n",
            "Requirement already satisfied: aiosignal>=1.1.2 in /usr/local/lib/python3.11/dist-packages (from aiohttp->datasets) (1.3.2)\n",
            "Requirement already satisfied: attrs>=17.3.0 in /usr/local/lib/python3.11/dist-packages (from aiohttp->datasets) (25.1.0)\n",
            "Requirement already satisfied: frozenlist>=1.1.1 in /usr/local/lib/python3.11/dist-packages (from aiohttp->datasets) (1.5.0)\n",
            "Requirement already satisfied: multidict<7.0,>=4.5 in /usr/local/lib/python3.11/dist-packages (from aiohttp->datasets) (6.1.0)\n",
            "Requirement already satisfied: propcache>=0.2.0 in /usr/local/lib/python3.11/dist-packages (from aiohttp->datasets) (0.3.0)\n",
            "Requirement already satisfied: yarl<2.0,>=1.17.0 in /usr/local/lib/python3.11/dist-packages (from aiohttp->datasets) (1.18.3)\n",
            "Requirement already satisfied: typing-extensions>=3.7.4.3 in /usr/local/lib/python3.11/dist-packages (from huggingface-hub>=0.24.0->datasets) (4.12.2)\n",
            "Requirement already satisfied: charset-normalizer<4,>=2 in /usr/local/lib/python3.11/dist-packages (from requests>=2.32.2->datasets) (3.4.1)\n",
            "Requirement already satisfied: idna<4,>=2.5 in /usr/local/lib/python3.11/dist-packages (from requests>=2.32.2->datasets) (3.10)\n",
            "Requirement already satisfied: urllib3<3,>=1.21.1 in /usr/local/lib/python3.11/dist-packages (from requests>=2.32.2->datasets) (2.3.0)\n",
            "Requirement already satisfied: certifi>=2017.4.17 in /usr/local/lib/python3.11/dist-packages (from requests>=2.32.2->datasets) (2025.1.31)\n",
            "Requirement already satisfied: python-dateutil>=2.8.2 in /usr/local/lib/python3.11/dist-packages (from pandas->datasets) (2.8.2)\n",
            "Requirement already satisfied: pytz>=2020.1 in /usr/local/lib/python3.11/dist-packages (from pandas->datasets) (2025.1)\n",
            "Requirement already satisfied: tzdata>=2022.7 in /usr/local/lib/python3.11/dist-packages (from pandas->datasets) (2025.1)\n",
            "Requirement already satisfied: six>=1.5 in /usr/local/lib/python3.11/dist-packages (from python-dateutil>=2.8.2->pandas->datasets) (1.17.0)\n",
            "Downloading datasets-3.3.2-py3-none-any.whl (485 kB)\n",
            "\u001b[2K   \u001b[90m━━━━━━━━━━━━━━━━━━━━━━━━━━━━━━━━━━━━━━━━\u001b[0m \u001b[32m485.4/485.4 kB\u001b[0m \u001b[31m13.1 MB/s\u001b[0m eta \u001b[36m0:00:00\u001b[0m\n",
            "\u001b[?25hDownloading dill-0.3.8-py3-none-any.whl (116 kB)\n",
            "\u001b[2K   \u001b[90m━━━━━━━━━━━━━━━━━━━━━━━━━━━━━━━━━━━━━━━━\u001b[0m \u001b[32m116.3/116.3 kB\u001b[0m \u001b[31m3.7 MB/s\u001b[0m eta \u001b[36m0:00:00\u001b[0m\n",
            "\u001b[?25hDownloading multiprocess-0.70.16-py311-none-any.whl (143 kB)\n",
            "\u001b[2K   \u001b[90m━━━━━━━━━━━━━━━━━━━━━━━━━━━━━━━━━━━━━━━━\u001b[0m \u001b[32m143.5/143.5 kB\u001b[0m \u001b[31m4.8 MB/s\u001b[0m eta \u001b[36m0:00:00\u001b[0m\n",
            "\u001b[?25hDownloading xxhash-3.5.0-cp311-cp311-manylinux_2_17_x86_64.manylinux2014_x86_64.whl (194 kB)\n",
            "\u001b[2K   \u001b[90m━━━━━━━━━━━━━━━━━━━━━━━━━━━━━━━━━━━━━━━━\u001b[0m \u001b[32m194.8/194.8 kB\u001b[0m \u001b[31m4.6 MB/s\u001b[0m eta \u001b[36m0:00:00\u001b[0m\n",
            "\u001b[?25hInstalling collected packages: xxhash, dill, multiprocess, datasets\n",
            "Successfully installed datasets-3.3.2 dill-0.3.8 multiprocess-0.70.16 xxhash-3.5.0\n",
            "Collecting seqeval\n",
            "  Downloading seqeval-1.2.2.tar.gz (43 kB)\n",
            "\u001b[2K     \u001b[90m━━━━━━━━━━━━━━━━━━━━━━━━━━━━━━━━━━━━━━━━\u001b[0m \u001b[32m43.6/43.6 kB\u001b[0m \u001b[31m3.4 MB/s\u001b[0m eta \u001b[36m0:00:00\u001b[0m\n",
            "\u001b[?25h  Preparing metadata (setup.py) ... \u001b[?25l\u001b[?25hdone\n",
            "Requirement already satisfied: numpy>=1.14.0 in /usr/local/lib/python3.11/dist-packages (from seqeval) (1.26.4)\n",
            "Requirement already satisfied: scikit-learn>=0.21.3 in /usr/local/lib/python3.11/dist-packages (from seqeval) (1.6.1)\n",
            "Requirement already satisfied: scipy>=1.6.0 in /usr/local/lib/python3.11/dist-packages (from scikit-learn>=0.21.3->seqeval) (1.13.1)\n",
            "Requirement already satisfied: joblib>=1.2.0 in /usr/local/lib/python3.11/dist-packages (from scikit-learn>=0.21.3->seqeval) (1.4.2)\n",
            "Requirement already satisfied: threadpoolctl>=3.1.0 in /usr/local/lib/python3.11/dist-packages (from scikit-learn>=0.21.3->seqeval) (3.5.0)\n",
            "Building wheels for collected packages: seqeval\n",
            "  Building wheel for seqeval (setup.py) ... \u001b[?25l\u001b[?25hdone\n",
            "  Created wheel for seqeval: filename=seqeval-1.2.2-py3-none-any.whl size=16161 sha256=4cf691fa4314533f5830cd7da47f43f7812ef221e87d572fde6fae01294cd2cf\n",
            "  Stored in directory: /root/.cache/pip/wheels/bc/92/f0/243288f899c2eacdfa8c5f9aede4c71a9bad0ee26a01dc5ead\n",
            "Successfully built seqeval\n",
            "Installing collected packages: seqeval\n",
            "Successfully installed seqeval-1.2.2\n"
          ]
        }
      ]
    },
    {
      "cell_type": "markdown",
      "source": [
        "💡 **Hint:**  \n",
        "- We **strongly encourage** running this notebook on **Google Colab** for:  \n",
        "  ✅ **Free GPU access** (L4, T4, or A100 for faster training).  \n",
        "    - Training **one epoch on CPU** takes **approximately 5 minutes**.  \n",
        "    - Training **one epoch on GPU (L4)** takes **only a few seconds**.  \n",
        "\n",
        "  ✅ **Pre-installed packages**, reducing setup time.\n",
        "  "
      ],
      "metadata": {
        "id": "NBpy1Mt9lTeQ"
      }
    },
    {
      "cell_type": "code",
      "source": [
        "# Setting a seed makes results reproducible.\n",
        "\n",
        "def set_seed(seed=42):\n",
        "    random.seed(seed)\n",
        "    np.random.seed(seed)\n",
        "    torch.manual_seed(seed)\n",
        "    torch.cuda.manual_seed(seed)\n",
        "    torch.cuda.manual_seed_all(seed)\n",
        "\n",
        "    # Ensure deterministic behavior\n",
        "    torch.backends.cudnn.deterministic = True\n",
        "    torch.backends.cudnn.benchmark = False\n",
        "\n",
        "# Set the seed\n",
        "set_seed(42)"
      ],
      "metadata": {
        "id": "78iNik9skd8K"
      },
      "execution_count": null,
      "outputs": []
    },
    {
      "cell_type": "code",
      "source": [
        "# Check GPU availability\n",
        "DEVICE = torch.device(\"cuda\" if torch.cuda.is_available() else \"cpu\")\n",
        "print(f\"Using device: {DEVICE}\")"
      ],
      "metadata": {
        "id": "SThWFg13fDjj",
        "colab": {
          "base_uri": "https://localhost:8080/"
        },
        "outputId": "dcfe503e-d9bc-4272-d8a3-f1083f98da32"
      },
      "execution_count": null,
      "outputs": [
        {
          "output_type": "stream",
          "name": "stdout",
          "text": [
            "Using device: cuda\n"
          ]
        }
      ]
    },
    {
      "cell_type": "markdown",
      "source": [
        "---\n",
        "\n",
        "## 📂 **Dataset Overview**\n",
        "\n",
        "The **CoNLL-2003 dataset** consists of sentences where each token is labeled using the **Inside-Outside-Beginning (IOB) tagging scheme**:\n",
        "\n",
        "\n",
        "| Index | Tag        | Description                              | Example |\n",
        "|-------|-----------|------------------------------------------|---------|\n",
        "| 0     | **O** ❌  | Outside of any named entity             | `\"This is a simple sentence.\"` |\n",
        "| 1     | **B-LOC** 🏙️ | Beginning of a location entity     | `\"I live in **[Paris]**(B-LOC).\"` |\n",
        "| 2     | **I-LOC** 🌍 | Inside a location entity         | `\"I visited **[New York]**(B-LOC) **[City]**(I-LOC).\"` |\n",
        "| 3     | **B-PER** 👤 | Beginning of a person entity      | `\"**[John]**(B-PER) Doe is a scientist.\"` |\n",
        "| 4     | **I-PER** 🏅 | Inside a person entity           | `\"**[Marie]**(B-PER) **[Curie]**(I-PER) discovered radium.\"` |\n",
        "| 5     | **B-ORG** 🏛️ | Beginning of an organization entity | `\"I work at **[Google]**(B-ORG).\"` |\n",
        "| 6     | **I-ORG** 🏢 | Inside an organization entity     | `\"I work at **[United Nations]**(B-ORG) **[Headquarters]**(I-ORG).\"` |\n",
        "\n",
        "\n"
      ],
      "metadata": {
        "id": "atCqxLND7_cM"
      }
    },
    {
      "cell_type": "code",
      "source": [
        "# Load the CoNLL-2003 dataset\n",
        "# Press 'y' to run the custom code\n",
        "from datasets import load_dataset\n",
        "dataset = load_dataset(\"conll2003\")"
      ],
      "metadata": {
        "id": "YnBZoyM1SytN",
        "colab": {
          "base_uri": "https://localhost:8080/",
          "height": 408,
          "referenced_widgets": [
            "b119a1589b8942afade3b910b729c5f5",
            "89c12bc4e46840898ecc2e8618314030",
            "ee807649e75d444980c08e30a9ad8db2",
            "e6f0b6137acc436980f69c0ad3ad455a",
            "3ebd5ae19674435aa601f905360a216b",
            "4767d8373ea2483aa54565030fd36f62",
            "37554ab999a444278ef6adf30ebca2af",
            "a542b23759ff47f092c7cda78d36d341",
            "16b2a5c538f342c59c1ba9588c074b60",
            "1d29ecf487b54a2facfc9a87ee6b9ed1",
            "fcddc9eeea174d7fa4d21d672a9f1df9",
            "2d0323486d5f4da0b938cd195a3f0d17",
            "d7c97946f9584b0a984424685da3bf6a",
            "04a4c9c5c77147a4b12f55ae03e06020",
            "af1efe0e47094d419792a41fac5bef84",
            "1fbbbd9600864610bfe38cbfcc78cbf6",
            "eeeaddb2c97845e09bedec021a6a1b89",
            "47be93e5239649d9b4cec0b5faa7b191",
            "776c32c0c4ff4895a0f1dca45521cbd3",
            "2179929027134866b0fe8bcf0e97d37d",
            "d09693f4e0474ed2adea2c082917ea6f",
            "10b587cb634047e2a3deed3a46b2f850",
            "385b2d7b0bbd49b2a10b939321039862",
            "c137689d39864eb5894e1f3e4b224d21",
            "7f7b022c799a4b50944490d04d53d5f4",
            "8dfb147942ba42398e582629f08096d3",
            "4a742b106eba4153b4d38fa0763e4cef",
            "a1bdde50dc9c43e098198cd1104616e7",
            "2ecbf01bff7047efbc0fbce66ac26029",
            "b05ee508426a40c9ae25064cc097d792",
            "196e536d073740a8bfc02ec3d93d09e8",
            "68a6126505f74cc1a8ab73414c1a8228",
            "ef7337b48a0c47f88267c5d61d3320c8",
            "f7c51999a9f344baa0d854a198c360af",
            "53a74f8d93224c0c80bb25b6b08201a1",
            "a70ca70e469e45fbbf245795ed79caed",
            "dfcf1b255c644d698907be78941dea19",
            "b9f1a24dad8c47e6a5f3e759499be4fe",
            "e6b0a02f812f408b85a5db271a7e54fc",
            "45cf3e9c163e49b5b0a8ab0235757de5",
            "a87032d55c3f432daed60102541abaaf",
            "af5aee80a0b24684bb081b9392f59f8a",
            "c6e77b3d3bf64d7b8a45c067c3ce7668",
            "8e5385689a92441d97e11020e3689f90",
            "9f8709f78cb244abaadea39de74d8152",
            "48b46bc3198d4dc29170af4dacde527b",
            "430e0536a0474134ae047f9b2bd642a5",
            "b533bdf2062a451695dfa274f2c1a881",
            "13938f5f25bf469987856f660e9043f6",
            "bb4a85159149406fbb6913b988cfa9fa",
            "419e6517acf2405ca1a590f5d5ffbab8",
            "d363801d8e8c423da61380c2b5cf0a1f",
            "645031881ae24c459b860dfafe967246",
            "1f009a982e244c4d8143af8190e898b6",
            "b3a8ac6cc03145cbb441b84c41c17aaf",
            "a59f75e7aab14a2a9ad01b1c081fa880",
            "4200944340a541d5800835df15d14eaf",
            "62e6b4f1395c4148909870e14d692bcf",
            "ab801996df7f4bb492547953d45d5fc2",
            "a18d6c670b694fcbbece674ac5e2a98c",
            "d05b8eebd47c44fc90c14eb4c129304f",
            "94ce0ecebeb349dbacf6174fe15875e9",
            "cfbd9cd7229043e78dd0d1f34f73bea4",
            "b4745bc23bd64a05882cb819b4aa4d90",
            "1ab363403e4c49239a0aca897f89a916",
            "700190a761474c67b20205c47b7874c3"
          ]
        },
        "outputId": "b0dddb6a-ce79-4e26-c9fe-71fb43511b0c"
      },
      "execution_count": null,
      "outputs": [
        {
          "output_type": "stream",
          "name": "stderr",
          "text": [
            "/usr/local/lib/python3.11/dist-packages/huggingface_hub/utils/_auth.py:94: UserWarning: \n",
            "The secret `HF_TOKEN` does not exist in your Colab secrets.\n",
            "To authenticate with the Hugging Face Hub, create a token in your settings tab (https://huggingface.co/settings/tokens), set it as secret in your Google Colab and restart your session.\n",
            "You will be able to reuse this secret in all of your notebooks.\n",
            "Please note that authentication is recommended but still optional to access public models or datasets.\n",
            "  warnings.warn(\n"
          ]
        },
        {
          "output_type": "display_data",
          "data": {
            "text/plain": [
              "README.md:   0%|          | 0.00/12.3k [00:00<?, ?B/s]"
            ],
            "application/vnd.jupyter.widget-view+json": {
              "version_major": 2,
              "version_minor": 0,
              "model_id": "b119a1589b8942afade3b910b729c5f5"
            }
          },
          "metadata": {}
        },
        {
          "output_type": "display_data",
          "data": {
            "text/plain": [
              "conll2003.py:   0%|          | 0.00/9.57k [00:00<?, ?B/s]"
            ],
            "application/vnd.jupyter.widget-view+json": {
              "version_major": 2,
              "version_minor": 0,
              "model_id": "2d0323486d5f4da0b938cd195a3f0d17"
            }
          },
          "metadata": {}
        },
        {
          "name": "stdout",
          "output_type": "stream",
          "text": [
            "The repository for conll2003 contains custom code which must be executed to correctly load the dataset. You can inspect the repository content at https://hf.co/datasets/conll2003.\n",
            "You can avoid this prompt in future by passing the argument `trust_remote_code=True`.\n",
            "\n",
            "Do you wish to run the custom code? [y/N] y\n"
          ]
        },
        {
          "output_type": "display_data",
          "data": {
            "text/plain": [
              "Downloading data:   0%|          | 0.00/983k [00:00<?, ?B/s]"
            ],
            "application/vnd.jupyter.widget-view+json": {
              "version_major": 2,
              "version_minor": 0,
              "model_id": "385b2d7b0bbd49b2a10b939321039862"
            }
          },
          "metadata": {}
        },
        {
          "output_type": "display_data",
          "data": {
            "text/plain": [
              "Generating train split:   0%|          | 0/14041 [00:00<?, ? examples/s]"
            ],
            "application/vnd.jupyter.widget-view+json": {
              "version_major": 2,
              "version_minor": 0,
              "model_id": "f7c51999a9f344baa0d854a198c360af"
            }
          },
          "metadata": {}
        },
        {
          "output_type": "display_data",
          "data": {
            "text/plain": [
              "Generating validation split:   0%|          | 0/3250 [00:00<?, ? examples/s]"
            ],
            "application/vnd.jupyter.widget-view+json": {
              "version_major": 2,
              "version_minor": 0,
              "model_id": "9f8709f78cb244abaadea39de74d8152"
            }
          },
          "metadata": {}
        },
        {
          "output_type": "display_data",
          "data": {
            "text/plain": [
              "Generating test split:   0%|          | 0/3453 [00:00<?, ? examples/s]"
            ],
            "application/vnd.jupyter.widget-view+json": {
              "version_major": 2,
              "version_minor": 0,
              "model_id": "a59f75e7aab14a2a9ad01b1c081fa880"
            }
          },
          "metadata": {}
        }
      ]
    },
    {
      "cell_type": "markdown",
      "source": [
        "### Named Entity Types in CoNLL-2003\n",
        "\n",
        "| **Tag** | **Meaning** | **Examples** |\n",
        "|---------|------------|-------------|\n",
        "| `PER`   | Person names | *John Smith, Albert Einstein* |\n",
        "| `ORG`   | Organizations | *Google, United Nations* |\n",
        "| `LOC`   | Locations | *New York, Europe* |\n",
        "| `MISC`  | Miscellaneous entities | *Eiffel Tower, Grammy Awards* |\n"
      ],
      "metadata": {
        "id": "aKSmhGFOMRQS"
      }
    },
    {
      "cell_type": "code",
      "source": [
        "#checking in the dataset:\n",
        "dataset.keys()\n",
        "dataset['train']"
      ],
      "metadata": {
        "colab": {
          "base_uri": "https://localhost:8080/"
        },
        "id": "MiVdVZ7CMAem",
        "outputId": "f80690a5-1a63-41e1-bd33-11bcaa586f73"
      },
      "execution_count": null,
      "outputs": [
        {
          "output_type": "execute_result",
          "data": {
            "text/plain": [
              "Dataset({\n",
              "    features: ['id', 'tokens', 'pos_tags', 'chunk_tags', 'ner_tags'],\n",
              "    num_rows: 14041\n",
              "})"
            ]
          },
          "metadata": {},
          "execution_count": 7
        }
      ]
    },
    {
      "cell_type": "markdown",
      "source": [
        "- IT HAS 3 SPLITS."
      ],
      "metadata": {
        "id": "j5WI3FvlMNdS"
      }
    },
    {
      "cell_type": "code",
      "source": [
        "#A peak into a sample data:\n",
        "dataset['train'][0]\n",
        "\n"
      ],
      "metadata": {
        "colab": {
          "base_uri": "https://localhost:8080/"
        },
        "collapsed": true,
        "id": "UNF66n9jNAp2",
        "outputId": "33e19ac2-27d0-4fd4-9e66-c226e42a9dd1"
      },
      "execution_count": null,
      "outputs": [
        {
          "output_type": "execute_result",
          "data": {
            "text/plain": [
              "{'id': '0',\n",
              " 'tokens': ['EU',\n",
              "  'rejects',\n",
              "  'German',\n",
              "  'call',\n",
              "  'to',\n",
              "  'boycott',\n",
              "  'British',\n",
              "  'lamb',\n",
              "  '.'],\n",
              " 'pos_tags': [22, 42, 16, 21, 35, 37, 16, 21, 7],\n",
              " 'chunk_tags': [11, 21, 11, 12, 21, 22, 11, 12, 0],\n",
              " 'ner_tags': [3, 0, 7, 0, 0, 0, 7, 0, 0]}"
            ]
          },
          "metadata": {},
          "execution_count": 8
        }
      ]
    },
    {
      "cell_type": "markdown",
      "source": [
        "### CoNLL-2003 NER Tag Mappings (Hugging Face Datasets)\n",
        "\n",
        "| **Number** | **Tag**    | **Description**                            |\n",
        "|------------|-----------|--------------------------------------------|\n",
        "| `0`        | `O`       | Outside any named entity                   |\n",
        "| `1`        | `B-PER`   | Beginning of a Person entity               |\n",
        "| `2`        | `I-PER`   | Inside a Person entity                     |\n",
        "| `3`        | `B-ORG`   | Beginning of an Organization entity        |\n",
        "| `4`        | `I-ORG`   | Inside an Organization entity              |\n",
        "| `5`        | `B-LOC`   | Beginning of a Location entity             |\n",
        "| `6`        | `I-LOC`   | Inside a Location entity                   |\n",
        "| `7`        | `B-MISC`  | Beginning of a Miscellaneous entity        |\n",
        "| `8`        | `I-MISC`  | Inside a Miscellaneous entity              |\n"
      ],
      "metadata": {
        "id": "thDNH-E8NKJb"
      }
    },
    {
      "cell_type": "markdown",
      "source": [
        "\n",
        "### ✅ **Task: Sentence and Word Statistics**\n",
        "\n",
        "Analyze the **basic structure of the dataset** by computing:\n",
        "- **Total number of sentences** in the dataset (for each split).\n",
        "- **Average sentence length** (number of words per sentence).\n",
        "- **Maximum and minimum sentence lengths** to understand sequence length variation."
      ],
      "metadata": {
        "id": "zOGkpgjtquB8"
      }
    },
    {
      "cell_type": "code",
      "source": [
        "# Total number of sentences in each split:\n",
        "# print(f\"Total number of sentences in the Train, Validation and Test respectively are:  \")\n",
        "# len(dataset['train']), len(dataset['validation']), len(dataset['test'])\n"
      ],
      "metadata": {
        "id": "kF3rlHKFrDjl"
      },
      "execution_count": null,
      "outputs": []
    },
    {
      "cell_type": "code",
      "source": [
        "#All in one..\n",
        "#Counting number of average words per sentence and longest and shortest sentence token number:\n",
        "splits = ['train', 'validation', 'test']\n",
        "\n",
        "for split in splits:\n",
        "    sentences = dataset[split]['tokens']  # Each item is a list of tokens (a sentence)\n",
        "\n",
        "    sentence_lengths = [len(sentence) for sentence in sentences]  # Compute sentence lengths once\n",
        "    total_words = sum(sentence_lengths)\n",
        "\n",
        "    avg_words = total_words / len(sentences)\n",
        "    longest_sentence = max(sentence_lengths)\n",
        "    shortest_sentence = min(sentence_lengths)\n",
        "    print(f'Number of sentences in {split} set {len(sentences)}')\n",
        "    print(f'Average words in {split} set: {avg_words:.2f}')\n",
        "    print(f'Longest sentence in {split} set: {longest_sentence} words')\n",
        "    print(f'Shortest sentence in {split} set: {shortest_sentence} words')\n",
        "    print(\"*\" * 80)\n"
      ],
      "metadata": {
        "colab": {
          "base_uri": "https://localhost:8080/"
        },
        "id": "11Lcxf1vPhgn",
        "outputId": "ed75610e-ccd1-4cdf-b4b2-33775968525d"
      },
      "execution_count": null,
      "outputs": [
        {
          "output_type": "stream",
          "name": "stdout",
          "text": [
            "Number of sentences in train set 14041\n",
            "Average words in train set: 14.50\n",
            "Longest sentence in train set: 113 words\n",
            "Shortest sentence in train set: 1 words\n",
            "********************************************************************************\n",
            "Number of sentences in validation set 3250\n",
            "Average words in validation set: 15.80\n",
            "Longest sentence in validation set: 109 words\n",
            "Shortest sentence in validation set: 1 words\n",
            "********************************************************************************\n",
            "Number of sentences in test set 3453\n",
            "Average words in test set: 13.45\n",
            "Longest sentence in test set: 124 words\n",
            "Shortest sentence in test set: 1 words\n",
            "********************************************************************************\n"
          ]
        }
      ]
    },
    {
      "cell_type": "markdown",
      "source": [
        "### ✅ **Task: NER Tag Frequency Statistics**\n",
        "\n",
        "1. **Compute the percentage distribution** of each tag.  \n",
        "2. **Visualize the tag frequencies** using a **bar chart** for better insights.  \n"
      ],
      "metadata": {
        "id": "GqmhMIC8rDEg"
      }
    },
    {
      "cell_type": "code",
      "source": [
        "import matplotlib.pyplot as plt"
      ],
      "metadata": {
        "id": "UCkRPP1Lz__b"
      },
      "execution_count": null,
      "outputs": []
    },
    {
      "cell_type": "code",
      "source": [],
      "metadata": {
        "id": "MdTQbyRAqz4Z"
      },
      "execution_count": null,
      "outputs": []
    },
    {
      "cell_type": "code",
      "source": [
        "\n",
        "# NER Tags:\n",
        "tags = ['O', 'B-PER', 'I-PER', 'B-ORG', 'I-ORG', 'B-LOC', 'I-LOC', 'B-MISC', 'I-MISC']\n",
        "\n",
        "# Initialize a dictionary to store tag counts by split\n",
        "all_tag_counts = {}\n",
        "\n",
        "for  split in splits:\n",
        "    tag_counts = {}\n",
        "    ner_tags = dataset[split]['ner_tags']\n",
        "\n",
        "    # Counting tags for the current split\n",
        "    for tag_values in ner_tags:\n",
        "        for tag in tag_values:\n",
        "            if tag in tag_counts:\n",
        "                tag_counts[tag] += 1\n",
        "            else:\n",
        "                tag_counts[tag] = 1\n",
        "\n",
        "    # Store the counts for the current split in the all_tag_counts dictionary\n",
        "    all_tag_counts[split] = tag_counts\n",
        "\n",
        "    # Print the final dictionary with tags counts\n",
        "    print(f'The tag frequency dist. of {split} set: \\n {tag_counts}')\n",
        "\n",
        "    # Total number of tags in each split\n",
        "    total_tags = sum(tag_counts.values())\n",
        "    print(f'total number of tags in {split} set: {total_tags}')\n",
        "\n",
        "    # Percent distribution\n",
        "    for tag, count in tag_counts.items():\n",
        "        tag_counts[tag] = round((count / total_tags) * 100, 2)\n",
        "    print(f'The tag percentage dist. of {split} set: \\n {tag_counts}')\n",
        "\n",
        "\n",
        "    # Plotting bar\n",
        "    plt.figure(figsize=(6, 4))\n",
        "\n",
        "    # Map tags to dictionary keys\n",
        "    tag_names = [tags[key] for key in tag_counts.keys()]\n",
        "    values = list(tag_counts.values())\n",
        "\n",
        "    plt.bar(tag_names, values, color='skyblue')\n",
        "\n",
        "    plt.xlabel('NER Tags')\n",
        "    plt.ylabel('Percentage')\n",
        "    plt.title(f'Percentage Distribution of NER Tags in {split} Set')\n",
        "    plt.tight_layout()\n",
        "    plt.show()\n",
        "\n",
        "    print(\"*\" * 80, '\\n')\n",
        "    print(\"*\" * 80, '\\n')\n",
        "\n",
        "# Now all_tag_counts holds the counts for each split, which can be used later\n",
        "\n"
      ],
      "metadata": {
        "colab": {
          "base_uri": "https://localhost:8080/",
          "height": 1000
        },
        "id": "5g-9cyxqvsLu",
        "outputId": "391ee8cb-21e9-4ebe-b6a6-3273a95938c1"
      },
      "execution_count": null,
      "outputs": [
        {
          "output_type": "stream",
          "name": "stdout",
          "text": [
            "The tag frequency dist. of train set: \n",
            " {3: 6321, 0: 169578, 7: 3438, 1: 6600, 2: 4528, 5: 7140, 4: 3704, 8: 1155, 6: 1157}\n",
            "total number of tags in train set: 203621\n",
            "The tag percentage dist. of train set: \n",
            " {3: 3.1, 0: 83.28, 7: 1.69, 1: 3.24, 2: 2.22, 5: 3.51, 4: 1.82, 8: 0.57, 6: 0.57}\n"
          ]
        },
        {
          "output_type": "display_data",
          "data": {
            "text/plain": [
              "<Figure size 600x400 with 1 Axes>"
            ],
            "image/png": "[encoded data removed]"
          },
          "metadata": {}
        },
        {
          "output_type": "stream",
          "name": "stdout",
          "text": [
            "******************************************************************************** \n",
            "\n",
            "******************************************************************************** \n",
            "\n",
            "The tag frequency dist. of validation set: \n",
            " {0: 42759, 3: 1341, 5: 1837, 7: 922, 8: 346, 1: 1842, 2: 1307, 6: 257, 4: 751}\n",
            "total number of tags in validation set: 51362\n",
            "The tag percentage dist. of validation set: \n",
            " {0: 83.25, 3: 2.61, 5: 3.58, 7: 1.8, 8: 0.67, 1: 3.59, 2: 2.54, 6: 0.5, 4: 1.46}\n"
          ]
        },
        {
          "output_type": "display_data",
          "data": {
            "text/plain": [
              "<Figure size 600x400 with 1 Axes>"
            ],
            "image/png": "[encoded data removed]"
          },
          "metadata": {}
        },
        {
          "output_type": "stream",
          "name": "stdout",
          "text": [
            "******************************************************************************** \n",
            "\n",
            "******************************************************************************** \n",
            "\n",
            "The tag frequency dist. of test set: \n",
            " {0: 38323, 5: 1668, 1: 1617, 2: 1156, 6: 257, 7: 702, 8: 216, 3: 1661, 4: 835}\n",
            "total number of tags in test set: 46435\n",
            "The tag percentage dist. of test set: \n",
            " {0: 82.53, 5: 3.59, 1: 3.48, 2: 2.49, 6: 0.55, 7: 1.51, 8: 0.47, 3: 3.58, 4: 1.8}\n"
          ]
        },
        {
          "output_type": "display_data",
          "data": {
            "text/plain": [
              "<Figure size 600x400 with 1 Axes>"
            ],
            "image/png": "[encoded data removed]"
          },
          "metadata": {}
        },
        {
          "output_type": "stream",
          "name": "stdout",
          "text": [
            "******************************************************************************** \n",
            "\n",
            "******************************************************************************** \n",
            "\n"
          ]
        }
      ]
    },
    {
      "cell_type": "markdown",
      "source": [
        "- In all splits the O tag is vert frequent as expected.  \n",
        "We can see the tags only for a better understanding if we omit O in our plots."
      ],
      "metadata": {
        "id": "QdqaN28M6G4w"
      }
    },
    {
      "cell_type": "code",
      "source": [
        "#if we omit 0 key and plot:\n",
        "# Plot everything except the 'O' tag\n",
        "for split, tag_counts in all_tag_counts.items():\n",
        "    # Remove the 'O' tag from the dictionary before plotting\n",
        "    tag_counts = {tag: count for tag, count in tag_counts.items() if tag != 0}\n",
        "    #sorting keys in ascending order:\n",
        "    tag_counts = dict(sorted(tag_counts.items(), key=lambda item: item[0]))\n",
        "    # Plot\n",
        "    plt.figure(figsize=(6, 4))\n",
        "\n",
        "    # Map tags to dictionary keys\n",
        "    tag_names = [tags[key] for key in tag_counts.keys()]\n",
        "    values = list(tag_counts.values())\n",
        "\n",
        "    plt.bar(tag_names, values, color='skyblue')\n",
        "\n",
        "    plt.xlabel('NER Tags')\n",
        "    plt.ylabel('Percentage')\n",
        "    plt.title(f'Percentage Distribution of NER Tags in {split} Set (Excluding 0)')\n",
        "    plt.tight_layout()\n",
        "    plt.show()\n"
      ],
      "metadata": {
        "colab": {
          "base_uri": "https://localhost:8080/",
          "height": 1000
        },
        "id": "yD-8nan5wYRV",
        "outputId": "6de62a35-5c4e-41f6-e47f-3cda46199fac"
      },
      "execution_count": null,
      "outputs": [
        {
          "output_type": "display_data",
          "data": {
            "text/plain": [
              "<Figure size 600x400 with 1 Axes>"
            ],
            "image/png": "[encoded data removed]"
          },
          "metadata": {}
        },
        {
          "output_type": "display_data",
          "data": {
            "text/plain": [
              "<Figure size 600x400 with 1 Axes>"
            ],
            "image/png": "[encoded data removed]"
          },
          "metadata": {}
        },
        {
          "output_type": "display_data",
          "data": {
            "text/plain": [
              "<Figure size 600x400 with 1 Axes>"
            ],
            "image/png": "[encoded data removed]"
          },
          "metadata": {}
        }
      ]
    },
    {
      "cell_type": "markdown",
      "source": [
        "****\n",
        "\n",
        "## **Data Preprocessing**"
      ],
      "metadata": {
        "id": "yieZ70aimE0O"
      }
    },
    {
      "cell_type": "markdown",
      "source": [
        "\n",
        "\n",
        "### ✅ **Task: Extract Unique Words and Tags**\n",
        "- **Words** 📖: A set of all unique tokens in the **training** dataset.\n",
        "- **Tags** 🏷️: A set of all unique NER labels in the **training** dataset.\n",
        "\n",
        "***"
      ],
      "metadata": {
        "id": "9-RloN8mcHws"
      }
    },
    {
      "cell_type": "code",
      "source": [
        "# TODO: Extract unique words and tags for vocab in the training dataset.\n",
        "# HINT: Extract each token from every sentence\n",
        "words = set()\n",
        "for sentence in dataset['train']['tokens']:\n",
        "    words.update(sentence)\n",
        "\n",
        "# # HINT: Extract each NER tag from every label sequence\n",
        "tags = set()\n",
        "for label_seq in dataset['train']['ner_tags']:\n",
        "    tags.update(label_seq)"
      ],
      "metadata": {
        "id": "rNWGuX39pqSG"
      },
      "execution_count": null,
      "outputs": []
    },
    {
      "cell_type": "code",
      "source": [
        "#see some elements from word\n",
        "list(words)[:5]"
      ],
      "metadata": {
        "colab": {
          "base_uri": "https://localhost:8080/"
        },
        "id": "qbRLd3ez8HnG",
        "outputId": "8dfca8f0-f6bb-45ff-9684-1f443a1bc6ff"
      },
      "execution_count": null,
      "outputs": [
        {
          "output_type": "execute_result",
          "data": {
            "text/plain": [
              "['Roy', 'Seguy', 'desserts', 'challenge', '2467.872']"
            ]
          },
          "metadata": {},
          "execution_count": 15
        }
      ]
    },
    {
      "cell_type": "code",
      "source": [
        "tags"
      ],
      "metadata": {
        "colab": {
          "base_uri": "https://localhost:8080/"
        },
        "id": "IHnpBJ1z7_KN",
        "outputId": "2c2d5125-c83a-4975-ccb4-9c6648d20e99"
      },
      "execution_count": null,
      "outputs": [
        {
          "output_type": "execute_result",
          "data": {
            "text/plain": [
              "{0, 1, 2, 3, 4, 5, 6, 7, 8}"
            ]
          },
          "metadata": {},
          "execution_count": 16
        }
      ]
    },
    {
      "cell_type": "code",
      "source": [
        "# Create mappings\n",
        "word2idx = {word: idx + 2 for idx, word in enumerate(words)}  # Start at 2 for padding & OOV\n",
        "word2idx[\"<PAD>\"] = 0\n",
        "word2idx[\"<UNK>\"] = 1\n",
        "\n",
        "# Define CoNLL-2003 NER tags\n",
        "NER_TAGS = [\n",
        "    \"O\", \"B-PER\", \"I-PER\", \"B-ORG\", \"I-ORG\", \"B-LOC\", \"I-LOC\", \"B-MISC\", \"I-MISC\"\n",
        "]"
      ],
      "metadata": {
        "id": "qYErsqKsb8II"
      },
      "execution_count": null,
      "outputs": []
    },
    {
      "cell_type": "markdown",
      "source": [
        "\n",
        "### ✅ **Task: Create Tag-to-Index and Index-to-Tag Mappings**\n",
        "Fill in the missing code to:\n",
        "- **Convert tag names** into unique numerical indices (`tag2idx`).\n",
        "- **Convert indices back** to tag names (`idx2tag`).\n",
        "***\n"
      ],
      "metadata": {
        "id": "ChfyxByccdZB"
      }
    },
    {
      "cell_type": "code",
      "source": [
        "# TODO: Map tag names to indices and vice versa\n",
        "# HINT: Assign a unique index to each tag\n",
        "tag2idx = {}\n",
        "for i,tag in enumerate(NER_TAGS):\n",
        "    tag2idx[tag] = i\n",
        "# HINT: Reverse the mapping for decoding\n",
        "idx2tag = {}\n",
        "for i,tag in enumerate(NER_TAGS):\n",
        "    idx2tag[i] = tag"
      ],
      "metadata": {
        "id": "YGpX1MCAb87_"
      },
      "execution_count": null,
      "outputs": []
    },
    {
      "cell_type": "code",
      "source": [
        "tag2idx"
      ],
      "metadata": {
        "colab": {
          "base_uri": "https://localhost:8080/"
        },
        "id": "2S0wdDju9LHu",
        "outputId": "ab330386-8321-4378-ce3d-24e7d85a90c1"
      },
      "execution_count": null,
      "outputs": [
        {
          "output_type": "execute_result",
          "data": {
            "text/plain": [
              "{'O': 0,\n",
              " 'B-PER': 1,\n",
              " 'I-PER': 2,\n",
              " 'B-ORG': 3,\n",
              " 'I-ORG': 4,\n",
              " 'B-LOC': 5,\n",
              " 'I-LOC': 6,\n",
              " 'B-MISC': 7,\n",
              " 'I-MISC': 8}"
            ]
          },
          "metadata": {},
          "execution_count": 19
        }
      ]
    },
    {
      "cell_type": "markdown",
      "source": [
        "### ✅ **Task: Categorize Capitalization Features**  \n",
        "\n",
        "💡 **Hints & Explanations**  \n",
        "\n",
        "#### **Why Use Capitalization Features?**  \n",
        "- Named entities often follow **capitalization patterns** (e.g., **ALL_CAPS** for organizations, **First_Capitalized** for names).  \n",
        "- Including capitalization features **improves NER performance** by helping the model recognize entity types more effectively.  \n",
        "\n",
        "***"
      ],
      "metadata": {
        "id": "f29FQFu9A24Q"
      }
    },
    {
      "cell_type": "code",
      "source": [
        "# TODO: Define a function to categorize capitalization types\n",
        "def get_capitalization_feature(word):\n",
        "\n",
        "    # HINT: Check if the word is in ALL CAPS\n",
        "    # Added {2,} to make sure it does not take all single capital letters as an organization names.\n",
        "    if re.search('^[A-Z]{2,}$', word) != None:\n",
        "        return 1\n",
        "\n",
        "    # HINT: Check if only the first letter is capitalized (Title Case)\n",
        "    elif re.search('^[A-Z][a-z]*$',word)!=None:\n",
        "        return 2\n",
        "\n",
        "    # HINT: Check if the word is entirely lowercase\n",
        "    elif re.search('^[a-z]+$', word) != None:\n",
        "        return 3\n",
        "\n",
        "    # HINT: Check if there are uppercase letters after the first character (Mixed Case)\n",
        "\n",
        "    elif re.search('^[a-z]+[A-Z]+[a-z]*$', word) != None:\n",
        "\n",
        "        return 4\n",
        "\n",
        "    # If none of the above, assign Only_One_Capital category\n",
        "    else:\n",
        "        return 5"
      ],
      "metadata": {
        "id": "HwemEl0oA293"
      },
      "execution_count": null,
      "outputs": []
    },
    {
      "cell_type": "code",
      "source": [
        "CAPITALIZATION_TAGS = [\"ALL_CAPS\", \"First_Capitalized\", \"all_lowercase\", \"Mixed_Case\", \"Only_One_Capital\"]\n",
        "\n",
        "# TODO: Define a mapping for capitalization categories\n",
        "# HINT: Assign a unique index to each capitalization category, starting from 1\n",
        "cap2idx = {}\n",
        "for i,cap in enumerate(CAPITALIZATION_TAGS):\n",
        "    cap2idx[cap] = i+1\n",
        "\n",
        "cap2idx[\"<PAD>\"] = 0"
      ],
      "metadata": {
        "id": "Sdb5dkwM_css"
      },
      "execution_count": null,
      "outputs": []
    },
    {
      "cell_type": "markdown",
      "source": [
        "***\n",
        "## **Dataset Preparation and Dynamic Batching**"
      ],
      "metadata": {
        "id": "4k3IFaVZmS5z"
      }
    },
    {
      "cell_type": "markdown",
      "source": [
        "\n",
        "### ✅ **Task: Complete `__getitem__` to Return Encoded Tokens and Labels**\n",
        "Fill in the missing code to:\n",
        "- Convert **words into numerical indices** using `word2idx`.\n",
        "- Convert **NER labels into numerical indices** (they are already numeric in the dataset).\n",
        "\n",
        "***"
      ],
      "metadata": {
        "id": "8feOmjtTgvGl"
      }
    },
    {
      "cell_type": "code",
      "source": [
        "# Custom Dataset Class for NER\n",
        "class NERDataset(Dataset):\n",
        "    def __init__(self, data):\n",
        "        self.sentences = data[\"tokens\"]  # List of tokenized sentences\n",
        "        self.labels = data[\"ner_tags\"]   # Corresponding NER labels\n",
        "\n",
        "    def __len__(self):\n",
        "        return len(self.sentences)  # Return the total number of sentences\n",
        "\n",
        "    def __getitem__(self, idx):\n",
        "        # TODO: Implement data retrieval for a single example\n",
        "        # HINT: Extract the tokens of the sentence at index `idx`\n",
        "        words = self.sentences[idx]\n",
        "        # HINT: Extract the corresponding NER labels\n",
        "        labels = self.labels[idx]\n",
        "\n",
        "        # HINT: Convert words to indices\n",
        "        word_ids = [word2idx.get(word, word2idx[\"<UNK>\"]) for word in words]\n",
        "        # HINT: Convert words to Capitalization Features\n",
        "        cap_features = [get_capitalization_feature(word) for word in words]\n",
        "\n",
        "        # NER labels are already in numeric format\n",
        "        label_ids = labels\n",
        "\n",
        "        return torch.tensor(word_ids),  torch.tensor(cap_features), torch.tensor(label_ids)"
      ],
      "metadata": {
        "id": "u6bYqZYQgt99"
      },
      "execution_count": null,
      "outputs": []
    },
    {
      "cell_type": "markdown",
      "source": [
        "\n",
        "\n",
        "### ✅ **Task: Complete `collate_fn` to Pad Batches Properly**\n",
        "\n",
        "\n",
        "When using **PyTorch's DataLoader**, we need a custom `collate_fn` to:\n",
        "- **Batch variable-length sequences** by **padding** them to the same length.\n",
        "- Ensure that **words and labels are padded correctly**.\n",
        "- Move the tensors to the **correct device (GPU/CPU)**.\n",
        "\n",
        "Fill in the missing code to:\n",
        "- Use `pad_sequence` to pad **word tensors** and **label tensors**.\n",
        "- Ensure `<PAD>` is used for words and `-100` is used for labels (ignored in loss computation).\n",
        "- Move tensors to `DEVICE`.\n",
        "\n",
        "***\n"
      ],
      "metadata": {
        "id": "NougXRSajZMK"
      }
    },
    {
      "cell_type": "code",
      "source": [
        "# TODO: Implement collate_fn for dynamic batching\n",
        "def collate_fn(batch):\n",
        "    words, cap_features, labels = zip(*batch)\n",
        "\n",
        " # HINT: Pad words using \"<PAD>\"\n",
        "    words_padded = pad_sequence(\n",
        "        [torch.tensor(word_ids) for word_ids in words],\n",
        "        batch_first=True,\n",
        "        padding_value=word2idx[\"<PAD>\"]  # Padding with <PAD> index\n",
        "    )\n",
        "\n",
        "    # HINT: Pad capitalization features using \"<PAD>\"\n",
        "    cap_padded = pad_sequence(\n",
        "        [torch.tensor(cap_feature) for cap_feature in cap_features],\n",
        "        batch_first=True,\n",
        "        padding_value=word2idx[\"<PAD>\"] # Padded with \"PAD\"\n",
        "    )\n",
        "\n",
        "    # HINT: Use `-100` for ignored label padding\n",
        "    labels_padded = pad_sequence(\n",
        "        [torch.tensor(label) for label in labels],\n",
        "        batch_first=True,\n",
        "        padding_value=-100  # Padding value for labels (usually -100 for ignored labels)\n",
        "    )\n",
        "\n",
        "    return words_padded.to(DEVICE), cap_padded.to(DEVICE), labels_padded.to(DEVICE)\n"
      ],
      "metadata": {
        "id": "89MZf0n8jaBu"
      },
      "execution_count": null,
      "outputs": []
    },
    {
      "cell_type": "code",
      "source": [
        "train_dataset = NERDataset(dataset[\"train\"])\n",
        "val_dataset = NERDataset(dataset[\"validation\"])\n",
        "test_dataset = NERDataset(dataset[\"test\"])\n",
        "\n",
        "train_loader = DataLoader(train_dataset, batch_size=32, shuffle=True, collate_fn=collate_fn)\n",
        "val_loader = DataLoader(val_dataset, batch_size=32, shuffle=False, collate_fn=collate_fn)\n",
        "test_loader = DataLoader(test_dataset, batch_size=32, shuffle=False, collate_fn=collate_fn)"
      ],
      "metadata": {
        "id": "cSfZT1_wZuH8"
      },
      "execution_count": null,
      "outputs": []
    },
    {
      "cell_type": "markdown",
      "source": [
        "***\n",
        "\n",
        "## **BiGRU Implementation**\n",
        "\n"
      ],
      "metadata": {
        "id": "p0NTqS16kAGX"
      }
    },
    {
      "cell_type": "markdown",
      "source": [
        "### ✅ **Task: Complete two embedding layers and the `forward` method**\n",
        "\n",
        "\n",
        "### 📌 **Overview**\n",
        "The `BiGRU_NER` model combines **word embeddings** and **capitalization features** to enhance named entity recognition (NER) performance. It processes input sequences using **Bidirectional GRUs** and predicts entity tags for each token.\n",
        "\n",
        "The `forward` method defines how the **BiGRU-based NER model** processes input data.  \n",
        "It consists of **three main steps**:\n",
        "1. Convert **word indices into dense embeddings** using `nn.Embedding`.\n",
        "2. Pass the embeddings through a **BiGRU** to capture sequential dependencies.\n",
        "3. Apply a **fully connected layer (`fc`)** to map GRU outputs to entity tag predictions.\n",
        "\n",
        "\n",
        "***"
      ],
      "metadata": {
        "id": "wY_E3dq_tQB8"
      }
    },
    {
      "cell_type": "code",
      "source": [
        "class BiGRU_NER(nn.Module):\n",
        "    def __init__(self, vocab_size, tagset_size, embedding_dim=300, hidden_dim=256, num_layers=2, cap_embedding_dim=8):\n",
        "        super(BiGRU_NER, self).__init__()\n",
        "\n",
        "        # TODO: Initialize word embedding layer\n",
        "        # HINT: Maps words to dense vector representations.\n",
        "        self.word_embedding = nn.Embedding(vocab_size, embedding_dim=embedding_dim, padding_idx=word2idx[\"<PAD>\"])\n",
        "\n",
        "        # TODO: Initialize capitalization feature embedding layer\n",
        "        # HINT: Maps capitalization types to dense vectors for feature enhancement.\n",
        "        self.cap_embedding = nn.Embedding(len(cap2idx), embedding_dim=cap_embedding_dim, padding_idx=cap2idx[\"<PAD>\"])\n",
        "\n",
        "        input_dim = embedding_dim + cap_embedding_dim  # Combine word and capitalization features\n",
        "        self.gru = nn.GRU(input_dim, hidden_dim, num_layers=num_layers,\n",
        "                            bidirectional=True, batch_first=True, dropout=0.3)\n",
        "\n",
        "        self.fc = nn.Linear(hidden_dim * 2, tagset_size)\n",
        "        self.loss_fn = nn.CrossEntropyLoss(ignore_index=-100)\n",
        "\n",
        "    def forward(self, word_ids, cap_features):\n",
        "        # TODO: Convert word indices to embeddings\n",
        "        word_embeds = self.word_embedding(word_ids)\n",
        "\n",
        "        # TODO: Convert capitalization features to embeddings\n",
        "        cap_embeds = self.cap_embedding(cap_features)\n",
        "\n",
        "        # TODO: Concatenate word embeddings with capitalization embeddings along the last dimension\n",
        "        combined_input = torch.cat((word_embeds, cap_embeds), dim=-1)\n",
        "\n",
        "        # TODO: Pass the concatenated embeddings through the BiGRU\n",
        "        gru_out, _ = self.gru(combined_input)\n",
        "\n",
        "        output = self.fc(gru_out)\n",
        "\n",
        "        return output  # Shape: (batch_size, seq_length, tagset_size)"
      ],
      "metadata": {
        "id": "MBC7m6UmS3mw"
      },
      "execution_count": null,
      "outputs": []
    },
    {
      "cell_type": "markdown",
      "source": [
        "***\n",
        "\n",
        "## **Training and evaluation**\n"
      ],
      "metadata": {
        "id": "_eqnqEEZbRVc"
      }
    },
    {
      "cell_type": "markdown",
      "source": [
        "\n",
        "### ✅ **Task: Complete the `train_model` and the `validate_model` functions**  \n",
        "\n",
        "#### 📌 **Overview**\n",
        "The **training loop** is a crucial component of the BiGRU NER model. It performs **gradient-based optimization** to improve the model's ability to recognize named entities. During training, the model learns **patterns in word embeddings and capitalization features**, refining its predictions over multiple epochs.\n",
        "\n",
        "This section guides you through implementing the **training and validation pipeline**.\n"
      ],
      "metadata": {
        "id": "895p-3YqtVhU"
      }
    },
    {
      "cell_type": "code",
      "source": [
        "import matplotlib.pyplot as plt\n",
        "\n",
        "# 🏋️‍♂️ TODO: Implement Training Loop for BiGRU NER Model\n",
        "def train_model(model, train_loader, val_loader, num_epochs=10, learning_rate=1e-4, save_path=\"best_bigru_ner.pth\",\n",
        "                 print_loss=False, plot_loss=True):\n",
        "    \"\"\"\n",
        "    Train a BiGRU-based Named Entity Recognition (NER) model.\n",
        "\n",
        "    Args:\n",
        "        model (nn.Module): The BiGRU NER model.\n",
        "        train_loader (DataLoader): DataLoader for training data.\n",
        "        val_loader (DataLoader): DataLoader for validation data.\n",
        "        num_epochs (int): Number of training epochs (default=10).\n",
        "        learning_rate (float): Learning rate for optimizer (default=1e-4).\n",
        "        save_path (str): Path to save the best model (default=\"best_bigru_ner.pth\").\n",
        "    \"\"\"\n",
        "\n",
        "    optimizer = optim.Adam(model.parameters(), lr=learning_rate)\n",
        "    loss_fn = nn.CrossEntropyLoss(ignore_index=-100)  # Ignore padding tokens in loss computation\n",
        "\n",
        "    best_val_loss = float(\"inf\")\n",
        "\n",
        "    train_losses = []\n",
        "    val_losses = []\n",
        "\n",
        "    # 🔄 Main Training Loop\n",
        "    for epoch in range(num_epochs):\n",
        "        model.train()\n",
        "        total_train_loss = 0\n",
        "        for word_ids, cap_features, labels in tqdm(train_loader, desc=f\"Epoch {epoch + 1}/{num_epochs}\"):\n",
        "            optimizer.zero_grad()  # Reset gradients before backpropagation\n",
        "\n",
        "            # TODO: Forward Pass\n",
        "            # HINT: Get model predictions (shape: [batch_size, seq_length, num_tags])\n",
        "            outputs = model(word_ids, cap_features)\n",
        "\n",
        "            # Reshape Outputs and Labels for Loss Calculation\n",
        "            outputs = outputs.view(-1, outputs.shape[-1])  # Flatten predictions to [total_tokens, num_tags]\n",
        "            labels = labels.view(-1)  # Flatten labels to [total_tokens]\n",
        "\n",
        "            # Compute loss\n",
        "            loss = loss_fn(outputs, labels)  # Calculate cross-entropy loss\n",
        "\n",
        "            # TODO: Backpropagation and Optimization\n",
        "            # HINT: Compute gradients\n",
        "            loss.backward()\n",
        "            # HINT: Update model parameters\n",
        "            optimizer.step()\n",
        "            total_train_loss += loss.item()  # Track training loss\n",
        "\n",
        "        # Compute average training loss for the epoch\n",
        "        avg_train_loss = total_train_loss / len(train_loader)\n",
        "\n",
        "        # Validate Model Performance on Validation Set\n",
        "        avg_val_loss = validate_model(model, val_loader, loss_fn)\n",
        "\n",
        "        train_losses.append(avg_train_loss)\n",
        "        val_losses.append(avg_val_loss)\n",
        "\n",
        "        if print_loss:\n",
        "            print(f\"Epoch {epoch + 1}/{num_epochs}, Train Loss: {avg_train_loss:.4f}, Validation Loss: {avg_val_loss:.4f}\")\n",
        "\n",
        "        # TODO: Save Best Model Based on Validation Loss\n",
        "        if avg_val_loss < best_val_loss:\n",
        "            # HINT: Update best validation loss\n",
        "            best_val_loss = avg_val_loss\n",
        "            # HINT: Save model weights\n",
        "            torch.save(model.state_dict(), save_path)\n",
        "            if print_loss:\n",
        "                print(\"Best model saved!\")  # Indicate model update\n",
        "\n",
        "    if plot_loss:\n",
        "        plt.figure(figsize=(8, 6))\n",
        "        plt.plot(range(1, num_epochs + 1), train_losses, label=\"Train Loss\", marker=\"o\")\n",
        "        plt.plot(range(1, num_epochs + 1), val_losses, label=\"Validation Loss\", marker=\"s\")\n",
        "        plt.xlabel(\"Epochs\")\n",
        "        plt.ylabel(\"Loss\")\n",
        "        plt.title(\"Training vs Validation Loss\")\n",
        "        plt.legend()\n",
        "        plt.grid(True)\n",
        "        plt.show()\n",
        "\n",
        "\n",
        "def validate_model(model, val_loader, loss_fn):\n",
        "    \"\"\"\n",
        "    Evaluate the model on validation data.\n",
        "\n",
        "    Args:\n",
        "        model (nn.Module): The trained BiGRU model.\n",
        "        val_loader (DataLoader): DataLoader for validation data.\n",
        "        loss_fn (nn.CrossEntropyLoss): Loss function used for evaluation.\n",
        "\n",
        "    Returns:\n",
        "        float: Average validation loss.\n",
        "    \"\"\"\n",
        "    model.eval()\n",
        "    total_val_loss = 0\n",
        "\n",
        "    with torch.no_grad():\n",
        "        for word_ids, cap_features, labels in val_loader:\n",
        "            # TODO: Forward Pass\n",
        "            # HINT: Get model predictions (shape: [batch_size, seq_length, num_tags])\n",
        "            outputs = model(word_ids, cap_features)\n",
        "\n",
        "            # Reshape Outputs and Labels for Loss Calculation\n",
        "            outputs = outputs.view(-1, outputs.shape[-1])\n",
        "            labels = labels.view(-1)\n",
        "\n",
        "            # Compute validation loss\n",
        "            loss = loss_fn(outputs, labels)\n",
        "            total_val_loss += loss.item()\n",
        "\n",
        "    return total_val_loss / len(val_loader)"
      ],
      "metadata": {
        "id": "GEf6aNrXkKjy"
      },
      "execution_count": null,
      "outputs": []
    },
    {
      "cell_type": "markdown",
      "source": [
        "### ✅ **Task: Complete the `test_model` function**  \n",
        "\n",
        "#### 📌 **Overview**\n",
        "Once the BiGRU NER model is trained, we need to **evaluate its performance** on the **test set**.  \n",
        "This step ensures that the model generalizes well to unseen data. The evaluation consists of:\n",
        "\n",
        "1. **Loading the Best Model Weights**  \n",
        "   - We retrieve the saved model from training and set it to **evaluation mode**.\n",
        "\n",
        "2. **Making Predictions**  \n",
        "   - The model processes input sentences and predicts NER tags.\n",
        "\n",
        "3. **Computing the Test Loss**  \n",
        "   - We measure how well the model performs by computing the **cross-entropy loss**.\n",
        "\n",
        "4. **Mapping Predictions to NER Tags**  \n",
        "   - Convert **predicted class indices** to their corresponding **NER tags**.\n",
        "\n",
        "5. **Generating Performance Metrics**  \n",
        "   - Compute **precision, recall, and F1-score** using `classification_report()`.\n",
        "\n",
        "***\n"
      ],
      "metadata": {
        "id": "V1m7x-dSbfjP"
      }
    },
    {
      "cell_type": "code",
      "source": [
        "# 🛠️ TODO: Implement Model Testing with Evaluation Metrics\n",
        "def test_model(model, test_loader, loss_fn, model_path=\"best_bigru_ner.pth\"):\n",
        "    \"\"\"\n",
        "    Evaluate the trained BiGRU NER model on the test set.\n",
        "\n",
        "    Args:\n",
        "        model (nn.Module): The trained BiGRU model.\n",
        "        test_loader (DataLoader): DataLoader for test data.\n",
        "        loss_fn (nn.CrossEntropyLoss): Loss function for evaluation.\n",
        "        model_path (str): Path to the saved best model.\n",
        "\n",
        "    Returns:\n",
        "        None (Prints test performance and metrics)\n",
        "    \"\"\"\n",
        "\n",
        "    print(\"Loading best model for testing...\")\n",
        "\n",
        "    # TODO: Load Pretrained Model Weights\n",
        "    # HINT: Load the best model\n",
        "\n",
        "    model.load_state_dict(torch.load(model_path))\n",
        "    model.to(DEVICE)\n",
        "    model.eval()\n",
        "\n",
        "    total_test_loss = 0\n",
        "    true_labels, pred_labels = [], []\n",
        "\n",
        "    with torch.no_grad():\n",
        "        for word_ids, cap_features, labels  in test_loader:\n",
        "            outputs = model(word_ids, cap_features)  # Forward pass\n",
        "\n",
        "            # Compute test loss\n",
        "            loss = loss_fn(outputs.view(-1, outputs.shape[-1]), labels.view(-1))\n",
        "            total_test_loss += loss.item()\n",
        "\n",
        "            # Convert Logits to Predicted Class Indices\n",
        "            predictions = outputs.argmax(dim=-1).cpu().numpy()\n",
        "            labels = labels.cpu().numpy()\n",
        "\n",
        "            for i in range(len(labels)):\n",
        "                # TODO: Convert Index Predictions to Tag Names\n",
        "                # HINT: Convert label indices to NER tags, ignoring padding tokens (-100)\n",
        "                true_labels.append([idx2tag[label] for label in labels[i] if label != -100])\n",
        "                # HINT: Ensure we only consider predicted tags where the original label is not padding (-100)\n",
        "                pred_labels.append([idx2tag[pred] for pred, label in zip(predictions[i], labels[i]) if label != -100])\n",
        "\n",
        "    avg_test_loss = total_test_loss / len(test_loader)\n",
        "    print(f\"Test Loss: {avg_test_loss:.4f}\")\n",
        "\n",
        "    print(\"\\nTest Set Performance:\")\n",
        "    # ⚠️ Keep this import unchanged, otherwise (sklearn.metrics) evaluation defaults to token level\n",
        "    from seqeval.metrics import classification_report\n",
        "    print(classification_report(true_labels, pred_labels))"
      ],
      "metadata": {
        "id": "z5UlHABUS8E-"
      },
      "execution_count": null,
      "outputs": []
    },
    {
      "cell_type": "code",
      "source": [
        "from sklearn.metrics import classification_report\n",
        "\n",
        "# Initialize model and run training\n",
        "model = BiGRU_NER(len(word2idx), len(tag2idx),hidden_dim=256).to(DEVICE)\n",
        "\n",
        "# Train model and select best parameters using validation set\n",
        "train_model(model, train_loader, val_loader, num_epochs=10)\n"
      ],
      "metadata": {
        "id": "xSCK8TGBWvF-",
        "colab": {
          "base_uri": "https://localhost:8080/",
          "height": 1000
        },
        "outputId": "ba7a27d7-94a8-49b2-e0bd-a9abb1f05a11"
      },
      "execution_count": null,
      "outputs": [
        {
          "output_type": "stream",
          "name": "stderr",
          "text": [
            "\rEpoch 1/10:   0%|          | 0/439 [00:00<?, ?it/s]<ipython-input-23-625baebd4f8b>:7: UserWarning: To copy construct from a tensor, it is recommended to use sourceTensor.clone().detach() or sourceTensor.clone().detach().requires_grad_(True), rather than torch.tensor(sourceTensor).\n",
            "  [torch.tensor(word_ids) for word_ids in words],\n",
            "<ipython-input-23-625baebd4f8b>:14: UserWarning: To copy construct from a tensor, it is recommended to use sourceTensor.clone().detach() or sourceTensor.clone().detach().requires_grad_(True), rather than torch.tensor(sourceTensor).\n",
            "  [torch.tensor(cap_feature) for cap_feature in cap_features],\n",
            "<ipython-input-23-625baebd4f8b>:21: UserWarning: To copy construct from a tensor, it is recommended to use sourceTensor.clone().detach() or sourceTensor.clone().detach().requires_grad_(True), rather than torch.tensor(sourceTensor).\n",
            "  [torch.tensor(label) for label in labels],\n",
            "Epoch 1/10: 100%|██████████| 439/439 [00:07<00:00, 61.52it/s]\n",
            "Epoch 2/10: 100%|██████████| 439/439 [00:05<00:00, 76.20it/s]\n",
            "Epoch 3/10: 100%|██████████| 439/439 [00:05<00:00, 74.32it/s]\n",
            "Epoch 4/10: 100%|██████████| 439/439 [00:06<00:00, 71.26it/s]\n",
            "Epoch 5/10: 100%|██████████| 439/439 [00:05<00:00, 74.57it/s]\n",
            "Epoch 6/10: 100%|██████████| 439/439 [00:07<00:00, 61.70it/s]\n",
            "Epoch 7/10: 100%|██████████| 439/439 [00:05<00:00, 75.53it/s]\n",
            "Epoch 8/10: 100%|██████████| 439/439 [00:06<00:00, 69.86it/s]\n",
            "Epoch 9/10: 100%|██████████| 439/439 [00:05<00:00, 75.04it/s]\n",
            "Epoch 10/10: 100%|██████████| 439/439 [00:06<00:00, 70.72it/s]\n"
          ]
        },
        {
          "output_type": "display_data",
          "data": {
            "text/plain": [
              "<Figure size 800x600 with 1 Axes>"
            ],
            "image/png": "[encoded data removed]"
          },
          "metadata": {}
        },
        {
          "output_type": "stream",
          "name": "stdout",
          "text": [
            "Loading best model for testing...\n"
          ]
        },
        {
          "output_type": "error",
          "ename": "NameError",
          "evalue": "name 'save_path' is not defined",
          "traceback": [
            "\u001b[0;31m---------------------------------------------------------------------------\u001b[0m",
            "\u001b[0;31mNameError\u001b[0m                                 Traceback (most recent call last)",
            "\u001b[0;32m<ipython-input-28-9561150df32b>\u001b[0m in \u001b[0;36m<cell line: 0>\u001b[0;34m()\u001b[0m\n\u001b[1;32m      8\u001b[0m \u001b[0;34m\u001b[0m\u001b[0m\n\u001b[1;32m      9\u001b[0m \u001b[0;31m# Test model using best saved parameters\u001b[0m\u001b[0;34m\u001b[0m\u001b[0;34m\u001b[0m\u001b[0m\n\u001b[0;32m---> 10\u001b[0;31m \u001b[0mtest_model\u001b[0m\u001b[0;34m(\u001b[0m\u001b[0mmodel\u001b[0m\u001b[0;34m,\u001b[0m \u001b[0mtest_loader\u001b[0m\u001b[0;34m,\u001b[0m \u001b[0mnn\u001b[0m\u001b[0;34m.\u001b[0m\u001b[0mCrossEntropyLoss\u001b[0m\u001b[0;34m(\u001b[0m\u001b[0mignore_index\u001b[0m\u001b[0;34m=\u001b[0m\u001b[0;34m-\u001b[0m\u001b[0;36m100\u001b[0m\u001b[0;34m)\u001b[0m\u001b[0;34m)\u001b[0m\u001b[0;34m\u001b[0m\u001b[0;34m\u001b[0m\u001b[0m\n\u001b[0m",
            "\u001b[0;32m<ipython-input-27-c472f535db33>\u001b[0m in \u001b[0;36mtest_model\u001b[0;34m(model, test_loader, loss_fn, model_path)\u001b[0m\n\u001b[1;32m     19\u001b[0m     \u001b[0;31m# HINT: Load the best model\u001b[0m\u001b[0;34m\u001b[0m\u001b[0;34m\u001b[0m\u001b[0m\n\u001b[1;32m     20\u001b[0m \u001b[0;34m\u001b[0m\u001b[0m\n\u001b[0;32m---> 21\u001b[0;31m     \u001b[0mmodel\u001b[0m\u001b[0;34m.\u001b[0m\u001b[0mload_state_dict\u001b[0m\u001b[0;34m(\u001b[0m\u001b[0msave_path\u001b[0m\u001b[0;34m)\u001b[0m\u001b[0;34m\u001b[0m\u001b[0;34m\u001b[0m\u001b[0m\n\u001b[0m\u001b[1;32m     22\u001b[0m     \u001b[0mmodel\u001b[0m\u001b[0;34m.\u001b[0m\u001b[0mto\u001b[0m\u001b[0;34m(\u001b[0m\u001b[0mDEVICE\u001b[0m\u001b[0;34m)\u001b[0m\u001b[0;34m\u001b[0m\u001b[0;34m\u001b[0m\u001b[0m\n\u001b[1;32m     23\u001b[0m     \u001b[0mmodel\u001b[0m\u001b[0;34m.\u001b[0m\u001b[0meval\u001b[0m\u001b[0;34m(\u001b[0m\u001b[0;34m)\u001b[0m\u001b[0;34m\u001b[0m\u001b[0;34m\u001b[0m\u001b[0m\n",
            "\u001b[0;31mNameError\u001b[0m: name 'save_path' is not defined"
          ]
        }
      ]
    },
    {
      "cell_type": "code",
      "source": [
        "\n",
        "# Test model using best saved parameters\n",
        "test_model(model, test_loader, nn.CrossEntropyLoss(ignore_index=-100))"
      ],
      "metadata": {
        "colab": {
          "base_uri": "https://localhost:8080/"
        },
        "id": "DU2bMhxhagGq",
        "outputId": "b59c90b6-64b3-47a5-ba55-a6bfea14f793"
      },
      "execution_count": null,
      "outputs": [
        {
          "output_type": "stream",
          "name": "stdout",
          "text": [
            "Loading best model for testing...\n"
          ]
        },
        {
          "output_type": "stream",
          "name": "stderr",
          "text": [
            "<ipython-input-31-470d4c2d6e3d>:21: FutureWarning: You are using `torch.load` with `weights_only=False` (the current default value), which uses the default pickle module implicitly. It is possible to construct malicious pickle data which will execute arbitrary code during unpickling (See https://github.com/pytorch/pytorch/blob/main/SECURITY.md#untrusted-models for more details). In a future release, the default value for `weights_only` will be flipped to `True`. This limits the functions that could be executed during unpickling. Arbitrary objects will no longer be allowed to be loaded via this mode unless they are explicitly allowlisted by the user via `torch.serialization.add_safe_globals`. We recommend you start setting `weights_only=True` for any use case where you don't have full control of the loaded file. Please open an issue on GitHub for any issues related to this experimental feature.\n",
            "  model.load_state_dict(torch.load(model_path))\n",
            "<ipython-input-23-625baebd4f8b>:7: UserWarning: To copy construct from a tensor, it is recommended to use sourceTensor.clone().detach() or sourceTensor.clone().detach().requires_grad_(True), rather than torch.tensor(sourceTensor).\n",
            "  [torch.tensor(word_ids) for word_ids in words],\n",
            "<ipython-input-23-625baebd4f8b>:14: UserWarning: To copy construct from a tensor, it is recommended to use sourceTensor.clone().detach() or sourceTensor.clone().detach().requires_grad_(True), rather than torch.tensor(sourceTensor).\n",
            "  [torch.tensor(cap_feature) for cap_feature in cap_features],\n",
            "<ipython-input-23-625baebd4f8b>:21: UserWarning: To copy construct from a tensor, it is recommended to use sourceTensor.clone().detach() or sourceTensor.clone().detach().requires_grad_(True), rather than torch.tensor(sourceTensor).\n",
            "  [torch.tensor(label) for label in labels],\n"
          ]
        },
        {
          "output_type": "stream",
          "name": "stdout",
          "text": [
            "Test Loss: 0.2174\n",
            "\n",
            "Test Set Performance:\n",
            "              precision    recall  f1-score   support\n",
            "\n",
            "         LOC       0.85      0.76      0.80      1668\n",
            "        MISC       0.62      0.62      0.62       702\n",
            "         ORG       0.70      0.65      0.67      1661\n",
            "         PER       0.74      0.81      0.77      1617\n",
            "\n",
            "   micro avg       0.74      0.73      0.73      5648\n",
            "   macro avg       0.73      0.71      0.72      5648\n",
            "weighted avg       0.75      0.73      0.73      5648\n",
            "\n"
          ]
        }
      ]
    },
    {
      "cell_type": "markdown",
      "source": [
        "***\n",
        "## **Introduction to GloVe (glove-wiki-gigaword-300) Word Embeddings**\n",
        "\n",
        "\n"
      ],
      "metadata": {
        "id": "Zi-tT_Uc68eS"
      }
    },
    {
      "cell_type": "markdown",
      "source": [
        "\n",
        "### 📌 **What is GloVe?**\n",
        "**GloVe (Global Vectors for Word Representation)** is a **pre-trained word embedding model** developed by **Stanford NLP**. Unlike **Word2Vec**, which is based on a predictive model, GloVe is a **count-based model** that captures global word co-occurrence statistics from large text corpora.\n",
        "\n",
        "## 📥 **About `glove-wiki-gigaword-300`**\n",
        "The **glove-wiki-gigaword-300** model is a **300-dimensional GloVe embedding** trained on the **Wikipedia 2014 + Gigaword 5 corpus**, which consists of **6 billion tokens**. This pre-trained embedding provides dense vector representations for **400,000 unique words**.\n",
        "\n",
        "### 📊 **Model Details**\n",
        "| Feature | Value |\n",
        "|---------|-------|\n",
        "| **Name** | `glove-wiki-gigaword-300` |\n",
        "| **Corpus** | Wikipedia 2014 + Gigaword 5 |\n",
        "| **Vocabulary Size** | ~400,000 words |\n",
        "| **Embedding Dimension** | 300 |\n",
        "| **Total Training Tokens** | ~6 billion |\n",
        "\n",
        "## 🚀 **Why Use GloVe for NER?**\n",
        "Using **pre-trained embeddings like GloVe** in NER tasks can **improve model performance** by providing:  \n",
        "✅ **Semantic Information** – Words with similar meanings have similar vector representations.  \n",
        "✅ **Better Generalization** – Helps the model learn even with **limited training data**.  \n",
        "✅ **Faster Convergence** – Pre-trained embeddings reduce the amount of training required.  \n",
        "\n",
        "## 🏗️ **How to Load GloVe in Python?**\n",
        "We use the **`gensim.downloader` API** to easily load GloVe embeddings:"
      ],
      "metadata": {
        "id": "FkezFpNJtYz7"
      }
    },
    {
      "cell_type": "code",
      "source": [
        "import gensim.downloader as api\n",
        "\n",
        "# Load Pre-Trained GloVe Embeddings\n",
        "glove_model = api.load(\"glove-wiki-gigaword-300\")\n",
        "embedding_dim = 300"
      ],
      "metadata": {
        "id": "2z23sDav7aYp",
        "colab": {
          "base_uri": "https://localhost:8080/"
        },
        "outputId": "1b4f6d39-7d53-4ec7-fa78-d188d1405797"
      },
      "execution_count": null,
      "outputs": [
        {
          "output_type": "stream",
          "name": "stdout",
          "text": [
            "[==================================================] 100.0% 376.1/376.1MB downloaded\n"
          ]
        }
      ]
    },
    {
      "cell_type": "markdown",
      "source": [
        "### ✅ **Task: Complete the `Embedding Matrix` Initialization**\n",
        "\n",
        "#### 📌 **Overview**\n",
        "Before training our **BiGRU-based NER model** with Glove, we need to **initialize the embedding matrix**.  \n",
        "The embedding matrix stores **word representations**, which help the model understand **semantic relationships** between words.\n",
        "\n",
        "This step ensures that words in our dataset are mapped to **pre-trained GloVe vectors** for better generalization.\n"
      ],
      "metadata": {
        "id": "RVV5Cs37buhb"
      }
    },
    {
      "cell_type": "code",
      "source": [
        "# 🏗️ TODO: Initialize Embedding Matrix\n",
        "# Create a zero matrix of shape (vocab_size, embedding_dim)\n",
        "embedding_matrix = torch.zeros(len(word2idx), embedding_dim)\n",
        "\n",
        "for word, idx in word2idx.items():\n",
        "    if word in glove_model:\n",
        "        # HINT: Assign the corresponding GloVe vector to the word’s index in the embedding matrix\n",
        "        vector=glove_model[word]\n",
        "        embedding_matrix[idx] = torch.tensor(vector)"
      ],
      "metadata": {
        "id": "amsGqmABSVWi"
      },
      "execution_count": null,
      "outputs": []
    },
    {
      "cell_type": "markdown",
      "source": [
        "### ✅ **Task: Update the `BiGRU_NER` Class for Pre-trained Embeddings**  "
      ],
      "metadata": {
        "id": "f1ttFpsSb7QU"
      }
    },
    {
      "cell_type": "code",
      "source": [
        "class BiGRU_NER(nn.Module):\n",
        "    def __init__(self, vocab_size, tagset_size, embedding_matrix, embedding_dim=300, hidden_dim=256, num_layers=2, cap_embedding_dim=8):\n",
        "        super(BiGRU_NER, self).__init__()\n",
        "\n",
        "        # TODO: Initialize Embedding Layer (Random or Pre-trained)\n",
        "        if embedding_matrix is None:\n",
        "            # Copy and paste the forward method implementation from the earlier model definition.\n",
        "            self.word_embedding = nn.Embedding(vocab_size, embedding_dim=embedding_dim, padding_idx=word2idx[\"<PAD>\"])\n",
        "\n",
        "        else:\n",
        "            # HINT: Load pre-trained embeddings (e.g., GloVe) and allow fine-tuning (`freeze=False`).\n",
        "            self.word_embedding= nn.Embedding.from_pretrained(embedding_matrix, freeze=False)\n",
        "\n",
        "        # TODO: Initialize capitalization feature embedding layer\n",
        "        # Copy and paste the forward method implementation from the earlier model definition.\n",
        "        self.cap_embedding = nn.Embedding(len(cap2idx), embedding_dim=cap_embedding_dim, padding_idx=cap2idx[\"<PAD>\"])\n",
        "\n",
        "        input_dim = embedding_dim + cap_embedding_dim  # Combine word and capitalization features\n",
        "        self.gru = nn.GRU(input_dim, hidden_dim, num_layers=num_layers,\n",
        "                            bidirectional=True, batch_first=True, dropout=0.3)\n",
        "\n",
        "        self.fc = nn.Linear(hidden_dim * 2, tagset_size)\n",
        "        self.loss_fn = nn.CrossEntropyLoss(ignore_index=-100)\n",
        "\n",
        "    def forward(self, word_ids, cap_features):\n",
        "        # TODO: Implement forward pass for BiGRU_NER\n",
        "        # Copy and paste the forward method implementation from the earlier model definition.\n",
        "\n",
        "        word_embeds = self.word_embedding(word_ids)\n",
        "\n",
        "\n",
        "        cap_embeds = self.cap_embedding(cap_features)\n",
        "\n",
        "\n",
        "        combined_input = torch.cat((word_embeds, cap_embeds), dim=-1)\n",
        "\n",
        "        gru_out, _ = self.gru(combined_input)\n",
        "\n",
        "        output = self.fc(gru_out)\n",
        "\n",
        "\n",
        "\n",
        "        return output  # Shape: (batch_size, seq_length, tagset_size)"
      ],
      "metadata": {
        "id": "VShPsg0NTzPg"
      },
      "execution_count": null,
      "outputs": []
    },
    {
      "cell_type": "code",
      "source": [
        "pretrained_emb_model = BiGRU_NER(len(word2idx), len(tag2idx), embedding_matrix).to(DEVICE)\n",
        "\n",
        "train_model(pretrained_emb_model, train_loader, val_loader, num_epochs=10)\n",
        "\n",
        "test_model(pretrained_emb_model, test_loader, nn.CrossEntropyLoss(ignore_index=-100))"
      ],
      "metadata": {
        "id": "mfxFcZL1T9eD",
        "colab": {
          "base_uri": "https://localhost:8080/",
          "height": 1000
        },
        "outputId": "0e693c05-49cc-4703-9b40-27780071754b"
      },
      "execution_count": null,
      "outputs": [
        {
          "output_type": "stream",
          "name": "stderr",
          "text": [
            "Epoch 1/10:   0%|          | 0/439 [00:00<?, ?it/s]<ipython-input-23-625baebd4f8b>:7: UserWarning: To copy construct from a tensor, it is recommended to use sourceTensor.clone().detach() or sourceTensor.clone().detach().requires_grad_(True), rather than torch.tensor(sourceTensor).\n",
            "  [torch.tensor(word_ids) for word_ids in words],\n",
            "<ipython-input-23-625baebd4f8b>:14: UserWarning: To copy construct from a tensor, it is recommended to use sourceTensor.clone().detach() or sourceTensor.clone().detach().requires_grad_(True), rather than torch.tensor(sourceTensor).\n",
            "  [torch.tensor(cap_feature) for cap_feature in cap_features],\n",
            "<ipython-input-23-625baebd4f8b>:21: UserWarning: To copy construct from a tensor, it is recommended to use sourceTensor.clone().detach() or sourceTensor.clone().detach().requires_grad_(True), rather than torch.tensor(sourceTensor).\n",
            "  [torch.tensor(label) for label in labels],\n",
            "Epoch 1/10: 100%|██████████| 439/439 [00:06<00:00, 68.26it/s]\n",
            "Epoch 2/10: 100%|██████████| 439/439 [00:06<00:00, 72.38it/s]\n",
            "Epoch 3/10: 100%|██████████| 439/439 [00:06<00:00, 72.38it/s]\n",
            "Epoch 4/10: 100%|██████████| 439/439 [00:06<00:00, 68.44it/s]\n",
            "Epoch 5/10: 100%|██████████| 439/439 [00:05<00:00, 73.69it/s]\n",
            "Epoch 6/10: 100%|██████████| 439/439 [00:06<00:00, 68.90it/s]\n",
            "Epoch 7/10: 100%|██████████| 439/439 [00:05<00:00, 74.44it/s]\n",
            "Epoch 8/10: 100%|██████████| 439/439 [00:06<00:00, 68.89it/s]\n",
            "Epoch 9/10: 100%|██████████| 439/439 [00:06<00:00, 66.64it/s]\n",
            "Epoch 10/10: 100%|██████████| 439/439 [00:06<00:00, 72.76it/s]\n"
          ]
        },
        {
          "output_type": "display_data",
          "data": {
            "text/plain": [
              "<Figure size 800x600 with 1 Axes>"
            ],
            "image/png": "[encoded data removed]"
          },
          "metadata": {}
        },
        {
          "output_type": "stream",
          "name": "stdout",
          "text": [
            "Loading best model for testing...\n"
          ]
        },
        {
          "output_type": "stream",
          "name": "stderr",
          "text": [
            "<ipython-input-31-470d4c2d6e3d>:21: FutureWarning: You are using `torch.load` with `weights_only=False` (the current default value), which uses the default pickle module implicitly. It is possible to construct malicious pickle data which will execute arbitrary code during unpickling (See https://github.com/pytorch/pytorch/blob/main/SECURITY.md#untrusted-models for more details). In a future release, the default value for `weights_only` will be flipped to `True`. This limits the functions that could be executed during unpickling. Arbitrary objects will no longer be allowed to be loaded via this mode unless they are explicitly allowlisted by the user via `torch.serialization.add_safe_globals`. We recommend you start setting `weights_only=True` for any use case where you don't have full control of the loaded file. Please open an issue on GitHub for any issues related to this experimental feature.\n",
            "  model.load_state_dict(torch.load(model_path))\n"
          ]
        },
        {
          "output_type": "stream",
          "name": "stdout",
          "text": [
            "Test Loss: 0.1635\n",
            "\n",
            "Test Set Performance:\n",
            "              precision    recall  f1-score   support\n",
            "\n",
            "         LOC       0.88      0.85      0.86      1668\n",
            "        MISC       0.59      0.67      0.63       702\n",
            "         ORG       0.70      0.77      0.73      1661\n",
            "         PER       0.85      0.83      0.84      1617\n",
            "\n",
            "   micro avg       0.78      0.80      0.79      5648\n",
            "   macro avg       0.76      0.78      0.77      5648\n",
            "weighted avg       0.78      0.80      0.79      5648\n",
            "\n"
          ]
        }
      ]
    },
    {
      "cell_type": "markdown",
      "source": [
        "***\n",
        "\n",
        "# 🔬 **Ablation Study: Impact of Capitalization Features on NER Performance**\n",
        "\n"
      ],
      "metadata": {
        "id": "-HfdzMcNPqhS"
      }
    },
    {
      "cell_type": "markdown",
      "source": [
        "\n",
        "## 📌 **Objective**\n",
        "The goal of this ablation study is to **analyze the effect of capitalization features** on Named Entity Recognition (NER) performance. By removing capitalization embeddings and comparing results, we can determine whether capitalization plays a significant role in improving entity recognition.\n",
        "\n",
        "\n",
        "##  **Experimental Setup**\n",
        "We will conduct two experiments:\n",
        "1. **With Capitalization Features (Baseline Model)**  \n",
        "   - The model uses both **word embeddings** and **capitalization embeddings**.\n",
        "   - Capitalization features are encoded using a separate embedding layer.\n",
        "   - Input to BiGRU = **Word Embeddings + Capitalization Embeddings**.\n",
        "\n",
        "2. **Without Capitalization Features (Ablated Model)**  \n",
        "   - The model **only uses word embeddings** (removes capitalization embeddings).\n",
        "   - Input to BiGRU = **Only Word Embeddings**.\n",
        "\n",
        "---"
      ],
      "metadata": {
        "id": "GvixSJgetbYR"
      }
    },
    {
      "cell_type": "markdown",
      "source": [
        "## 📌 **Objective**\n",
        "In this task, you will implement a **BiGRU-based NER model without capitalization features** (`BiGRU_NER_NoCap`).  \n",
        "This model will serve as a **baseline** in our ablation study to determine the impact of capitalization features on NER performance.\n",
        "\n",
        "---\n",
        "\n",
        "\n",
        "### ✅ **Task: Implement the `forward` Method**\n",
        "- **Process input word indices** through the embedding layer.  \n",
        "- **Pass embeddings through BiGRU** to generate contextualized token representations.  \n",
        "- **Apply the fully connected layer (`fc`)** to get final NER predictions.  \n",
        "- **Ignore `cap_features`**:  "
      ],
      "metadata": {
        "id": "d1z1_St0v4zw"
      }
    },
    {
      "cell_type": "code",
      "source": [
        "class BiGRU_NER_NoCap(nn.Module):\n",
        "    def __init__(self, vocab_size, tagset_size, embedding_matrix=None, embedding_dim=300, hidden_dim=256, num_layers=2):\n",
        "        super(BiGRU_NER_NoCap, self).__init__()\n",
        "\n",
        "        # TODO: Initialize Embedding Layer (Random or Pre-trained)\n",
        "        # Copy and paste the forward method implementation from the earlier model definition.\n",
        "        if embedding_matrix is None:\n",
        "            self.word_embedding = nn.Embedding(vocab_size, embedding_dim=embedding_dim, padding_idx=word2idx[\"<PAD>\"])\n",
        "\n",
        "        else:\n",
        "            self.word_embedding= nn.Embedding.from_pretrained(embedding_matrix, freeze=False)\n",
        "\n",
        "\n",
        "        # Input to BiGRU is only word embeddings\n",
        "        self.gru = nn.GRU(embedding_dim, hidden_dim, num_layers=num_layers,\n",
        "                          bidirectional=True, batch_first=True, dropout=0.3)\n",
        "\n",
        "        self.fc = nn.Linear(hidden_dim * 2, tagset_size)\n",
        "        self.loss_fn = nn.CrossEntropyLoss(ignore_index=-100)\n",
        "\n",
        "    def forward(self, word_ids, cap_features):\n",
        "        # TODO: Implement forward pass for BiGRU_NER_NoCap\n",
        "        # There’s no need to use cap_features in this function.\n",
        "        # It is included as a parameter only to maintain consistency with the training logic.\n",
        "        word_embeds = self.word_embedding(word_ids)\n",
        "\n",
        "        gru_out, _ = self.gru(word_embeds)\n",
        "\n",
        "        output = self.fc(gru_out)\n",
        "\n",
        "        return output"
      ],
      "metadata": {
        "id": "8gq5QYupaVKp"
      },
      "execution_count": null,
      "outputs": []
    },
    {
      "cell_type": "code",
      "source": [
        "model_no_cap = BiGRU_NER_NoCap(len(word2idx), len(tag2idx)).to(DEVICE)\n",
        "\n",
        "train_model(model_no_cap, train_loader, val_loader)\n",
        "\n",
        "test_model(model_no_cap, test_loader, nn.CrossEntropyLoss(ignore_index=-100))"
      ],
      "metadata": {
        "id": "lnvNW4vsaVcl",
        "colab": {
          "base_uri": "https://localhost:8080/",
          "height": 1000
        },
        "outputId": "be2a8a1d-870c-4775-9ad0-dd5eff07e7fc"
      },
      "execution_count": null,
      "outputs": [
        {
          "output_type": "stream",
          "name": "stderr",
          "text": [
            "Epoch 1/10:   0%|          | 0/439 [00:00<?, ?it/s]<ipython-input-23-625baebd4f8b>:7: UserWarning: To copy construct from a tensor, it is recommended to use sourceTensor.clone().detach() or sourceTensor.clone().detach().requires_grad_(True), rather than torch.tensor(sourceTensor).\n",
            "  [torch.tensor(word_ids) for word_ids in words],\n",
            "<ipython-input-23-625baebd4f8b>:14: UserWarning: To copy construct from a tensor, it is recommended to use sourceTensor.clone().detach() or sourceTensor.clone().detach().requires_grad_(True), rather than torch.tensor(sourceTensor).\n",
            "  [torch.tensor(cap_feature) for cap_feature in cap_features],\n",
            "<ipython-input-23-625baebd4f8b>:21: UserWarning: To copy construct from a tensor, it is recommended to use sourceTensor.clone().detach() or sourceTensor.clone().detach().requires_grad_(True), rather than torch.tensor(sourceTensor).\n",
            "  [torch.tensor(label) for label in labels],\n",
            "Epoch 1/10: 100%|██████████| 439/439 [00:05<00:00, 74.62it/s]\n",
            "Epoch 2/10: 100%|██████████| 439/439 [00:06<00:00, 68.48it/s]\n",
            "Epoch 3/10: 100%|██████████| 439/439 [00:05<00:00, 75.35it/s]\n",
            "Epoch 4/10: 100%|██████████| 439/439 [00:06<00:00, 63.94it/s]\n",
            "Epoch 5/10: 100%|██████████| 439/439 [00:05<00:00, 73.75it/s]\n",
            "Epoch 6/10: 100%|██████████| 439/439 [00:06<00:00, 68.48it/s]\n",
            "Epoch 7/10: 100%|██████████| 439/439 [00:05<00:00, 74.14it/s]\n",
            "Epoch 8/10: 100%|██████████| 439/439 [00:06<00:00, 71.45it/s]\n",
            "Epoch 9/10: 100%|██████████| 439/439 [00:06<00:00, 68.06it/s]\n",
            "Epoch 10/10: 100%|██████████| 439/439 [00:06<00:00, 67.02it/s]\n"
          ]
        },
        {
          "output_type": "display_data",
          "data": {
            "text/plain": [
              "<Figure size 800x600 with 1 Axes>"
            ],
            "image/png": "[encoded data removed]"
          },
          "metadata": {}
        },
        {
          "output_type": "stream",
          "name": "stdout",
          "text": [
            "Loading best model for testing...\n"
          ]
        },
        {
          "output_type": "stream",
          "name": "stderr",
          "text": [
            "<ipython-input-31-470d4c2d6e3d>:21: FutureWarning: You are using `torch.load` with `weights_only=False` (the current default value), which uses the default pickle module implicitly. It is possible to construct malicious pickle data which will execute arbitrary code during unpickling (See https://github.com/pytorch/pytorch/blob/main/SECURITY.md#untrusted-models for more details). In a future release, the default value for `weights_only` will be flipped to `True`. This limits the functions that could be executed during unpickling. Arbitrary objects will no longer be allowed to be loaded via this mode unless they are explicitly allowlisted by the user via `torch.serialization.add_safe_globals`. We recommend you start setting `weights_only=True` for any use case where you don't have full control of the loaded file. Please open an issue on GitHub for any issues related to this experimental feature.\n",
            "  model.load_state_dict(torch.load(model_path))\n"
          ]
        },
        {
          "output_type": "stream",
          "name": "stdout",
          "text": [
            "Test Loss: 0.3217\n",
            "\n",
            "Test Set Performance:\n",
            "              precision    recall  f1-score   support\n",
            "\n",
            "         LOC       0.90      0.55      0.68      1668\n",
            "        MISC       0.69      0.49      0.57       702\n",
            "         ORG       0.58      0.56      0.57      1661\n",
            "         PER       0.68      0.58      0.62      1617\n",
            "\n",
            "   micro avg       0.69      0.55      0.61      5648\n",
            "   macro avg       0.71      0.54      0.61      5648\n",
            "weighted avg       0.72      0.55      0.62      5648\n",
            "\n"
          ]
        }
      ]
    },
    {
      "cell_type": "code",
      "source": [
        "pretrained_emb_model_no_cap = BiGRU_NER_NoCap(len(word2idx), len(tag2idx), embedding_matrix).to(DEVICE)\n",
        "\n",
        "train_model(pretrained_emb_model_no_cap, train_loader, val_loader)\n",
        "\n",
        "test_model(pretrained_emb_model_no_cap, test_loader, nn.CrossEntropyLoss(ignore_index=-100))"
      ],
      "metadata": {
        "id": "Fq9zYy67cGcL",
        "colab": {
          "base_uri": "https://localhost:8080/",
          "height": 1000
        },
        "outputId": "f09de90d-571c-401d-d236-7a7f1b391a9e"
      },
      "execution_count": null,
      "outputs": [
        {
          "output_type": "stream",
          "name": "stderr",
          "text": [
            "Epoch 1/10:   0%|          | 0/439 [00:00<?, ?it/s]<ipython-input-23-625baebd4f8b>:7: UserWarning: To copy construct from a tensor, it is recommended to use sourceTensor.clone().detach() or sourceTensor.clone().detach().requires_grad_(True), rather than torch.tensor(sourceTensor).\n",
            "  [torch.tensor(word_ids) for word_ids in words],\n",
            "<ipython-input-23-625baebd4f8b>:14: UserWarning: To copy construct from a tensor, it is recommended to use sourceTensor.clone().detach() or sourceTensor.clone().detach().requires_grad_(True), rather than torch.tensor(sourceTensor).\n",
            "  [torch.tensor(cap_feature) for cap_feature in cap_features],\n",
            "<ipython-input-23-625baebd4f8b>:21: UserWarning: To copy construct from a tensor, it is recommended to use sourceTensor.clone().detach() or sourceTensor.clone().detach().requires_grad_(True), rather than torch.tensor(sourceTensor).\n",
            "  [torch.tensor(label) for label in labels],\n",
            "Epoch 1/10: 100%|██████████| 439/439 [00:06<00:00, 65.64it/s]\n",
            "Epoch 2/10: 100%|██████████| 439/439 [00:06<00:00, 66.99it/s]\n",
            "Epoch 3/10: 100%|██████████| 439/439 [00:06<00:00, 69.47it/s]\n",
            "Epoch 4/10: 100%|██████████| 439/439 [00:05<00:00, 75.57it/s]\n",
            "Epoch 5/10: 100%|██████████| 439/439 [00:06<00:00, 68.46it/s]\n",
            "Epoch 6/10: 100%|██████████| 439/439 [00:05<00:00, 74.31it/s]\n",
            "Epoch 7/10: 100%|██████████| 439/439 [00:06<00:00, 68.90it/s]\n",
            "Epoch 8/10: 100%|██████████| 439/439 [00:05<00:00, 74.96it/s]\n",
            "Epoch 9/10: 100%|██████████| 439/439 [00:06<00:00, 69.17it/s]\n",
            "Epoch 10/10: 100%|██████████| 439/439 [00:05<00:00, 73.62it/s]\n"
          ]
        },
        {
          "output_type": "display_data",
          "data": {
            "text/plain": [
              "<Figure size 800x600 with 1 Axes>"
            ],
            "image/png": "[encoded data removed]"
          },
          "metadata": {}
        },
        {
          "output_type": "stream",
          "name": "stdout",
          "text": [
            "Loading best model for testing...\n"
          ]
        },
        {
          "output_type": "stream",
          "name": "stderr",
          "text": [
            "<ipython-input-31-470d4c2d6e3d>:21: FutureWarning: You are using `torch.load` with `weights_only=False` (the current default value), which uses the default pickle module implicitly. It is possible to construct malicious pickle data which will execute arbitrary code during unpickling (See https://github.com/pytorch/pytorch/blob/main/SECURITY.md#untrusted-models for more details). In a future release, the default value for `weights_only` will be flipped to `True`. This limits the functions that could be executed during unpickling. Arbitrary objects will no longer be allowed to be loaded via this mode unless they are explicitly allowlisted by the user via `torch.serialization.add_safe_globals`. We recommend you start setting `weights_only=True` for any use case where you don't have full control of the loaded file. Please open an issue on GitHub for any issues related to this experimental feature.\n",
            "  model.load_state_dict(torch.load(model_path))\n"
          ]
        },
        {
          "output_type": "stream",
          "name": "stdout",
          "text": [
            "Test Loss: 0.2077\n",
            "\n",
            "Test Set Performance:\n",
            "              precision    recall  f1-score   support\n",
            "\n",
            "         LOC       0.83      0.73      0.78      1668\n",
            "        MISC       0.48      0.63      0.55       702\n",
            "         ORG       0.68      0.70      0.69      1661\n",
            "         PER       0.77      0.75      0.76      1617\n",
            "\n",
            "   micro avg       0.71      0.71      0.71      5648\n",
            "   macro avg       0.69      0.70      0.69      5648\n",
            "weighted avg       0.73      0.71      0.72      5648\n",
            "\n"
          ]
        }
      ]
    },
    {
      "cell_type": "code",
      "source": [],
      "metadata": {
        "id": "HeLyBeUahG4e"
      },
      "execution_count": null,
      "outputs": []
    }
  ]
}